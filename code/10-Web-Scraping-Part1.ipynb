{
 "cells": [
  {
   "cell_type": "raw",
   "metadata": {},
   "source": [
    "---\n",
    "author: \"Melanie Walsh\"\n",
    "---"
   ]
  },
  {
   "cell_type": "markdown",
   "metadata": {},
   "source": [
    "# Web Scraping — Part 1"
   ]
  },
  {
   "cell_type": "markdown",
   "metadata": {},
   "source": [
    "*Inspired by web scraping lessons from [Lauren Klein](https://github.com/laurenfklein/emory-qtm340/blob/master/notebooks/class4-web-scraping-complete.ipynb) and [Allison Parrish](https://github.com/aparrish/dmep-python-intro/blob/master/scraping-html.ipynb)*"
   ]
  },
  {
   "cell_type": "markdown",
   "metadata": {},
   "source": [
    "In this series of lessons, we're going to introduce how to \"scrape\" data from the internet with the Python libraries requests and BeautifulSoup.\n",
    "\n",
    "We will cover how to:\n",
    "\n",
    "* Programmatically access the text of a web page\n",
    "* Understand the basics of HTML\n",
    "* Extract certain HTML elements"
   ]
  },
  {
   "cell_type": "markdown",
   "metadata": {},
   "source": [
    "## Why Do We Need To Scrape At All?"
   ]
  },
  {
   "cell_type": "markdown",
   "metadata": {},
   "source": [
    "To understand the significance of web scraping, let's walk through the likely data collection process behind [“Film Dialogue from 2,000 screenplays, Broken Down by Gender and Age”](https://pudding.cool/2017/03/film-dialogue/).\n",
    "\n",
    "To find their 2,000 screenplays, Hannah Andersen and Matt Daniels consulted a number of already existing sources — one of which was the [Cornell Movie Dialogues Corpus](http://www.cs.cornell.edu/~cristian/Cornell_Movie-Dialogs_Corpus.html). This is a corpus created by Cornell CIS professors Cristian Danescu-Niculescu-Mizil and Lillian Lee for their paper [\"Chameleons in imagined conversations\"](http://www.cs.cornell.edu/~cristian/papers/chameleons.pdf). Go Big Red!\n",
    "\n",
    "These researchers helpfully shared a dataset of every URL that they used to find and access the screenplays in their own project."
   ]
  },
  {
   "cell_type": "markdown",
   "metadata": {},
   "source": [
    "**Import Pandas**"
   ]
  },
  {
   "cell_type": "code",
   "execution_count": 37,
   "metadata": {
    "ExecuteTime": {
     "end_time": "2022-12-01T12:48:47.607114Z",
     "start_time": "2022-12-01T12:48:47.601020Z"
    }
   },
   "outputs": [],
   "source": [
    "import pandas as pd"
   ]
  },
  {
   "cell_type": "markdown",
   "metadata": {},
   "source": [
    "**Read in CSV file**"
   ]
  },
  {
   "cell_type": "code",
   "execution_count": 38,
   "metadata": {
    "ExecuteTime": {
     "end_time": "2022-12-01T12:44:11.842270Z",
     "start_time": "2022-12-01T12:44:11.820105Z"
    }
   },
   "outputs": [],
   "source": [
    "urls = pd.read_csv(\"../data/cornell-movie-corpus/raw_script_urls.csv\", delimiter='\\t', encoding='utf=8')"
   ]
  },
  {
   "cell_type": "markdown",
   "metadata": {},
   "source": [
    "**Display DataFrame**"
   ]
  },
  {
   "cell_type": "code",
   "execution_count": 39,
   "metadata": {
    "ExecuteTime": {
     "end_time": "2022-12-01T12:44:13.791279Z",
     "start_time": "2022-12-01T12:44:13.762872Z"
    },
    "tags": [
     "output_scroll"
    ]
   },
   "outputs": [
    {
     "data": {
      "text/html": [
       "<div>\n",
       "<style scoped>\n",
       "    .dataframe tbody tr th:only-of-type {\n",
       "        vertical-align: middle;\n",
       "    }\n",
       "\n",
       "    .dataframe tbody tr th {\n",
       "        vertical-align: top;\n",
       "    }\n",
       "\n",
       "    .dataframe thead th {\n",
       "        text-align: right;\n",
       "    }\n",
       "</style>\n",
       "<table border=\"1\" class=\"dataframe\">\n",
       "  <thead>\n",
       "    <tr style=\"text-align: right;\">\n",
       "      <th></th>\n",
       "      <th>id</th>\n",
       "      <th>movie_title</th>\n",
       "      <th>script_url</th>\n",
       "    </tr>\n",
       "  </thead>\n",
       "  <tbody>\n",
       "    <tr>\n",
       "      <th>0</th>\n",
       "      <td>m0</td>\n",
       "      <td>10 things i hate about you</td>\n",
       "      <td>http://www.dailyscript.com/scripts/10Things.html</td>\n",
       "    </tr>\n",
       "    <tr>\n",
       "      <th>1</th>\n",
       "      <td>m1</td>\n",
       "      <td>1492: conquest of paradise</td>\n",
       "      <td>http://www.hundland.org/scripts/1492-Conquest...</td>\n",
       "    </tr>\n",
       "    <tr>\n",
       "      <th>2</th>\n",
       "      <td>m2</td>\n",
       "      <td>15 minutes</td>\n",
       "      <td>http://www.dailyscript.com/scripts/15minutes....</td>\n",
       "    </tr>\n",
       "    <tr>\n",
       "      <th>3</th>\n",
       "      <td>m3</td>\n",
       "      <td>2001: a space odyssey</td>\n",
       "      <td>http://www.scifiscripts.com/scripts/2001.txt</td>\n",
       "    </tr>\n",
       "    <tr>\n",
       "      <th>4</th>\n",
       "      <td>m4</td>\n",
       "      <td>48 hrs.</td>\n",
       "      <td>http://www.awesomefilm.com/script/48hours.txt</td>\n",
       "    </tr>\n",
       "    <tr>\n",
       "      <th>...</th>\n",
       "      <td>...</td>\n",
       "      <td>...</td>\n",
       "      <td>...</td>\n",
       "    </tr>\n",
       "    <tr>\n",
       "      <th>612</th>\n",
       "      <td>m612</td>\n",
       "      <td>watchmen</td>\n",
       "      <td>http://www.scifiscripts.com/scripts/wtchmn.txt</td>\n",
       "    </tr>\n",
       "    <tr>\n",
       "      <th>613</th>\n",
       "      <td>m613</td>\n",
       "      <td>xxx</td>\n",
       "      <td>http://www.dailyscript.com/scripts/xXx.txt</td>\n",
       "    </tr>\n",
       "    <tr>\n",
       "      <th>614</th>\n",
       "      <td>m614</td>\n",
       "      <td>x-men</td>\n",
       "      <td>http://www.scifiscripts.com/scripts/xmenthing...</td>\n",
       "    </tr>\n",
       "    <tr>\n",
       "      <th>615</th>\n",
       "      <td>m615</td>\n",
       "      <td>young frankenstein</td>\n",
       "      <td>http://www.horrorlair.com/scripts/young.txt</td>\n",
       "    </tr>\n",
       "    <tr>\n",
       "      <th>616</th>\n",
       "      <td>m616</td>\n",
       "      <td>zulu dawn</td>\n",
       "      <td>http://www.aellea.com/script/zuludawn.txt</td>\n",
       "    </tr>\n",
       "  </tbody>\n",
       "</table>\n",
       "<p>617 rows × 3 columns</p>\n",
       "</div>"
      ],
      "text/plain": [
       "        id                   movie_title  \\\n",
       "0      m0    10 things i hate about you    \n",
       "1      m1    1492: conquest of paradise    \n",
       "2      m2                    15 minutes    \n",
       "3      m3         2001: a space odyssey    \n",
       "4      m4                       48 hrs.    \n",
       "..     ...                           ...   \n",
       "612  m612                      watchmen    \n",
       "613  m613                           xxx    \n",
       "614  m614                         x-men    \n",
       "615  m615            young frankenstein    \n",
       "616  m616                     zulu dawn    \n",
       "\n",
       "                                            script_url  \n",
       "0     http://www.dailyscript.com/scripts/10Things.html  \n",
       "1     http://www.hundland.org/scripts/1492-Conquest...  \n",
       "2     http://www.dailyscript.com/scripts/15minutes....  \n",
       "3         http://www.scifiscripts.com/scripts/2001.txt  \n",
       "4        http://www.awesomefilm.com/script/48hours.txt  \n",
       "..                                                 ...  \n",
       "612     http://www.scifiscripts.com/scripts/wtchmn.txt  \n",
       "613         http://www.dailyscript.com/scripts/xXx.txt  \n",
       "614   http://www.scifiscripts.com/scripts/xmenthing...  \n",
       "615        http://www.horrorlair.com/scripts/young.txt  \n",
       "616          http://www.aellea.com/script/zuludawn.txt  \n",
       "\n",
       "[617 rows x 3 columns]"
      ]
     },
     "execution_count": 39,
     "metadata": {},
     "output_type": "execute_result"
    }
   ],
   "source": [
    "urls"
   ]
  },
  {
   "cell_type": "markdown",
   "metadata": {},
   "source": [
    "Each movie title in this CSV file is paired with a URL for the screenplay. How can we actually use these URLs to get computationally tractable text data?\n",
    "\n",
    "Though we could manually navigate to each URL and copy/paste each screenplay into a file, that would be suuuuper slow and painstaking, and we would lose crucial data in the process — information that might help us automatically distinguish the title of the movie from the screenplay itself, for example. It would be much better to programmatically access the text data attached to every URL."
   ]
  },
  {
   "cell_type": "markdown",
   "metadata": {},
   "source": [
    "## Responses and Requests"
   ]
  },
  {
   "cell_type": "markdown",
   "metadata": {},
   "source": [
    "To programmatically access the text data attached to every URL, we can use a Python library called [requests](https://requests.readthedocs.io/en/master/)."
   ]
  },
  {
   "cell_type": "markdown",
   "metadata": {},
   "source": [
    "When you type in a URL in your search address bar, you're sending an HTTP **request** for a web page, and the server which stores that web page will accordingly send back a **response**, some web page data that your browser will render."
   ]
  },
  {
   "cell_type": "markdown",
   "metadata": {},
   "source": [
    "<img src=\"../images/request-response.png\" class=\"center\" width=\"700\" height=\"400\">"
   ]
  },
  {
   "cell_type": "markdown",
   "metadata": {},
   "source": [
    "### Import Requests "
   ]
  },
  {
   "cell_type": "code",
   "execution_count": 40,
   "metadata": {
    "ExecuteTime": {
     "end_time": "2022-12-01T14:11:10.835489Z",
     "start_time": "2022-12-01T14:11:10.756186Z"
    }
   },
   "outputs": [],
   "source": [
    "import requests"
   ]
  },
  {
   "cell_type": "markdown",
   "metadata": {},
   "source": [
    "### Get HTML Data"
   ]
  },
  {
   "cell_type": "markdown",
   "metadata": {},
   "source": [
    "With the `.get()` method, we can request to \"get\" web page data for a specific URL, which we will store in a varaible called `response`."
   ]
  },
  {
   "cell_type": "code",
   "execution_count": 41,
   "metadata": {
    "ExecuteTime": {
     "end_time": "2022-12-01T12:44:19.486836Z",
     "start_time": "2022-12-01T12:44:18.259147Z"
    }
   },
   "outputs": [],
   "source": [
    "response = requests.get(\"http://www.scifiscripts.com/scripts/Ghostbusters.txt\")"
   ]
  },
  {
   "cell_type": "markdown",
   "metadata": {},
   "source": [
    "### HTTP Status Code"
   ]
  },
  {
   "cell_type": "markdown",
   "metadata": {},
   "source": [
    "If we check out `response`, it will simply tell us its [HTTP response code](https://developer.mozilla.org/en-US/docs/Web/HTTP/Status), aka whether the request was successful or not.\n",
    "\n",
    "\"200\" is a successful response, while \"404\" is a common \"Page Not Found\" error."
   ]
  },
  {
   "cell_type": "code",
   "execution_count": 42,
   "metadata": {
    "ExecuteTime": {
     "end_time": "2022-12-01T12:44:19.523668Z",
     "start_time": "2022-12-01T12:44:19.518177Z"
    }
   },
   "outputs": [
    {
     "data": {
      "text/plain": [
       "<Response [200]>"
      ]
     },
     "execution_count": 42,
     "metadata": {},
     "output_type": "execute_result"
    }
   ],
   "source": [
    "response"
   ]
  },
  {
   "cell_type": "markdown",
   "metadata": {},
   "source": [
    "Let's see what happens if we change the title of the movie from *Ghostbusters* to *Ghostboogers* in the URL..."
   ]
  },
  {
   "cell_type": "code",
   "execution_count": 43,
   "metadata": {
    "ExecuteTime": {
     "end_time": "2022-12-01T12:44:20.814440Z",
     "start_time": "2022-12-01T12:44:20.530847Z"
    }
   },
   "outputs": [],
   "source": [
    "bad_response = requests.get(\"http://www.scifiscripts.com/scripts/Ghostboogers.txt\")"
   ]
  },
  {
   "cell_type": "code",
   "execution_count": 44,
   "metadata": {
    "ExecuteTime": {
     "end_time": "2022-12-01T12:44:20.881209Z",
     "start_time": "2022-12-01T12:44:20.875882Z"
    }
   },
   "outputs": [
    {
     "data": {
      "text/plain": [
       "<Response [404]>"
      ]
     },
     "execution_count": 44,
     "metadata": {},
     "output_type": "execute_result"
    }
   ],
   "source": [
    "bad_response"
   ]
  },
  {
   "cell_type": "markdown",
   "metadata": {},
   "source": [
    "<img src=\"../images/Ghostboogers.png\" class=\"center\" width=\"900\" height=\"400\">"
   ]
  },
  {
   "cell_type": "markdown",
   "metadata": {},
   "source": [
    "### Extract Text From Web Page"
   ]
  },
  {
   "cell_type": "markdown",
   "metadata": {},
   "source": [
    "To actually get at the text data in the reponse, we need to use `.text`, which we will save in a variable called `html_string`. The text data that we're getting is formatted in the HTML markup language, which we will talk more about in the BeautifulSoup section below."
   ]
  },
  {
   "cell_type": "code",
   "execution_count": 45,
   "metadata": {
    "ExecuteTime": {
     "end_time": "2022-12-01T12:44:22.820816Z",
     "start_time": "2022-12-01T12:44:22.814651Z"
    }
   },
   "outputs": [],
   "source": [
    "html_string = response.text"
   ]
  },
  {
   "cell_type": "markdown",
   "metadata": {},
   "source": [
    "Here's the screenplay now in a variable."
   ]
  },
  {
   "cell_type": "code",
   "execution_count": 46,
   "metadata": {
    "ExecuteTime": {
     "end_time": "2022-12-01T12:44:48.340966Z",
     "start_time": "2022-12-01T12:44:48.334531Z"
    },
    "scrolled": true,
    "tags": [
     "output_scroll"
    ]
   },
   "outputs": [
    {
     "name": "stdout",
     "output_type": "stream",
     "text": [
      "\t\t\t\t\t\tGhostbusters\n",
      "\n",
      "\t\t\t\t\t\t\tby\n",
      "\t\t\t\t\t\tHarold Ramis\n",
      "\t\t\t\t\t\t\tand\n",
      "\t\t\t\t\t\tDan Aykroyd\n",
      "\n",
      "\t\t\t\t\tFinal Shooting Script\n",
      "\t\t\t\tLast revised October 7, 1983\n",
      "\n",
      "\n",
      "\t\t\t\t\t\t\t\t\t\t\tFADE IN\n",
      "\n",
      "EXT. NEW YORK PUBLIC LIBRARY -- DAY\n",
      "\n",
      "The sun shines brightly on the classic facade of the main library at Fifth\n",
      "Avenue and 42nd Street.  In the adjacent park area, pretty hustlers and\n",
      "drug peddlers go about their business.\n",
      "\n",
      "FRONT STEPS\n",
      "\n",
      "A few people lounge on the steps flanked by the familiar stone lions.\n",
      "\n",
      "INT. MAI...\n"
     ]
    }
   ],
   "source": [
    "print(html_string[:500] + \"...\")"
   ]
  },
  {
   "cell_type": "markdown",
   "metadata": {},
   "source": [
    "### Extract Text From Multiple Web Pages"
   ]
  },
  {
   "cell_type": "markdown",
   "metadata": {},
   "source": [
    "Let's quickly demonstrate how we might extract the screenplay text for every URL in the DataFrame. To do so, we're going to create a smaller DataFrame from the Cornell Movie Dialogue Corpus, which consists of the first 10 movies."
   ]
  },
  {
   "cell_type": "code",
   "execution_count": 47,
   "metadata": {
    "ExecuteTime": {
     "end_time": "2022-12-01T12:45:53.449951Z",
     "start_time": "2022-12-01T12:45:53.445431Z"
    }
   },
   "outputs": [],
   "source": [
    "sample_urls = urls[:10]"
   ]
  },
  {
   "cell_type": "code",
   "execution_count": 48,
   "metadata": {
    "ExecuteTime": {
     "end_time": "2022-12-01T12:45:53.728896Z",
     "start_time": "2022-12-01T12:45:53.711895Z"
    },
    "tags": [
     "output_scroll"
    ]
   },
   "outputs": [
    {
     "data": {
      "text/html": [
       "<div>\n",
       "<style scoped>\n",
       "    .dataframe tbody tr th:only-of-type {\n",
       "        vertical-align: middle;\n",
       "    }\n",
       "\n",
       "    .dataframe tbody tr th {\n",
       "        vertical-align: top;\n",
       "    }\n",
       "\n",
       "    .dataframe thead th {\n",
       "        text-align: right;\n",
       "    }\n",
       "</style>\n",
       "<table border=\"1\" class=\"dataframe\">\n",
       "  <thead>\n",
       "    <tr style=\"text-align: right;\">\n",
       "      <th></th>\n",
       "      <th>id</th>\n",
       "      <th>movie_title</th>\n",
       "      <th>script_url</th>\n",
       "    </tr>\n",
       "  </thead>\n",
       "  <tbody>\n",
       "    <tr>\n",
       "      <th>0</th>\n",
       "      <td>m0</td>\n",
       "      <td>10 things i hate about you</td>\n",
       "      <td>http://www.dailyscript.com/scripts/10Things.html</td>\n",
       "    </tr>\n",
       "    <tr>\n",
       "      <th>1</th>\n",
       "      <td>m1</td>\n",
       "      <td>1492: conquest of paradise</td>\n",
       "      <td>http://www.hundland.org/scripts/1492-Conquest...</td>\n",
       "    </tr>\n",
       "    <tr>\n",
       "      <th>2</th>\n",
       "      <td>m2</td>\n",
       "      <td>15 minutes</td>\n",
       "      <td>http://www.dailyscript.com/scripts/15minutes....</td>\n",
       "    </tr>\n",
       "    <tr>\n",
       "      <th>3</th>\n",
       "      <td>m3</td>\n",
       "      <td>2001: a space odyssey</td>\n",
       "      <td>http://www.scifiscripts.com/scripts/2001.txt</td>\n",
       "    </tr>\n",
       "    <tr>\n",
       "      <th>4</th>\n",
       "      <td>m4</td>\n",
       "      <td>48 hrs.</td>\n",
       "      <td>http://www.awesomefilm.com/script/48hours.txt</td>\n",
       "    </tr>\n",
       "    <tr>\n",
       "      <th>5</th>\n",
       "      <td>m5</td>\n",
       "      <td>the fifth element</td>\n",
       "      <td>http://www.scifiscripts.com/scripts/5thelemen...</td>\n",
       "    </tr>\n",
       "    <tr>\n",
       "      <th>6</th>\n",
       "      <td>m6</td>\n",
       "      <td>8mm</td>\n",
       "      <td>http://www.dailyscript.com/scripts/eight-mill...</td>\n",
       "    </tr>\n",
       "    <tr>\n",
       "      <th>7</th>\n",
       "      <td>m7</td>\n",
       "      <td>a nightmare on elm street 4: the dream master</td>\n",
       "      <td>http://www.hundland.org/scripts/A-Nightmare-o...</td>\n",
       "    </tr>\n",
       "    <tr>\n",
       "      <th>8</th>\n",
       "      <td>m8</td>\n",
       "      <td>a nightmare on elm street: the dream child</td>\n",
       "      <td>http://www.hundland.org/scripts/A-Nightmare-o...</td>\n",
       "    </tr>\n",
       "    <tr>\n",
       "      <th>9</th>\n",
       "      <td>m9</td>\n",
       "      <td>the atomic submarine</td>\n",
       "      <td>http://leonscripts.tripod.com/scripts/ATOMICS...</td>\n",
       "    </tr>\n",
       "  </tbody>\n",
       "</table>\n",
       "</div>"
      ],
      "text/plain": [
       "    id                                      movie_title  \\\n",
       "0  m0                       10 things i hate about you    \n",
       "1  m1                       1492: conquest of paradise    \n",
       "2  m2                                       15 minutes    \n",
       "3  m3                            2001: a space odyssey    \n",
       "4  m4                                          48 hrs.    \n",
       "5  m5                                the fifth element    \n",
       "6  m6                                              8mm    \n",
       "7  m7    a nightmare on elm street 4: the dream master    \n",
       "8  m8       a nightmare on elm street: the dream child    \n",
       "9  m9                             the atomic submarine    \n",
       "\n",
       "                                          script_url  \n",
       "0   http://www.dailyscript.com/scripts/10Things.html  \n",
       "1   http://www.hundland.org/scripts/1492-Conquest...  \n",
       "2   http://www.dailyscript.com/scripts/15minutes....  \n",
       "3       http://www.scifiscripts.com/scripts/2001.txt  \n",
       "4      http://www.awesomefilm.com/script/48hours.txt  \n",
       "5   http://www.scifiscripts.com/scripts/5thelemen...  \n",
       "6   http://www.dailyscript.com/scripts/eight-mill...  \n",
       "7   http://www.hundland.org/scripts/A-Nightmare-o...  \n",
       "8   http://www.hundland.org/scripts/A-Nightmare-o...  \n",
       "9   http://leonscripts.tripod.com/scripts/ATOMICS...  "
      ]
     },
     "execution_count": 48,
     "metadata": {},
     "output_type": "execute_result"
    }
   ],
   "source": [
    "sample_urls"
   ]
  },
  {
   "cell_type": "markdown",
   "metadata": {},
   "source": [
    "We're going to make a function called `scrape_screenplay()` that includes our `requests.get()` and `response.text` code."
   ]
  },
  {
   "cell_type": "code",
   "execution_count": 49,
   "metadata": {
    "ExecuteTime": {
     "end_time": "2022-12-01T12:45:54.462377Z",
     "start_time": "2022-12-01T12:45:54.456271Z"
    }
   },
   "outputs": [],
   "source": [
    "def scrape_screenplay(url):\n",
    "    response = requests.get(url, verify=False)\n",
    "    html_string = response.text\n",
    "    return html_string"
   ]
  },
  {
   "cell_type": "markdown",
   "metadata": {},
   "source": [
    "Then we're going apply it to the \"script_url\" column of the DataFrame and create a new column for the resulting extracted text."
   ]
  },
  {
   "cell_type": "code",
   "execution_count": 50,
   "metadata": {
    "ExecuteTime": {
     "end_time": "2022-12-01T12:48:32.110994Z",
     "start_time": "2022-12-01T12:48:30.107028Z"
    }
   },
   "outputs": [
    {
     "name": "stderr",
     "output_type": "stream",
     "text": [
      "C:\\Users\\greta\\AppData\\Local\\Temp\\ipykernel_16136\\4057324171.py:3: SettingWithCopyWarning: \n",
      "A value is trying to be set on a copy of a slice from a DataFrame.\n",
      "Try using .loc[row_indexer,col_indexer] = value instead\n",
      "\n",
      "See the caveats in the documentation: https://pandas.pydata.org/pandas-docs/stable/user_guide/indexing.html#returning-a-view-versus-a-copy\n",
      "  sample_urls.at[index, 'text'] = scrape_screenplay(row['script_url'])\n",
      "c:\\Users\\greta\\AppData\\Local\\Programs\\Python\\Python310\\lib\\site-packages\\urllib3\\connectionpool.py:1045: InsecureRequestWarning: Unverified HTTPS request is being made to host 'leonscripts.tripod.com'. Adding certificate verification is strongly advised. See: https://urllib3.readthedocs.io/en/1.26.x/advanced-usage.html#ssl-warnings\n",
      "  warnings.warn(\n"
     ]
    }
   ],
   "source": [
    "for index, row in sample_urls.iterrows():\n",
    "    try:\n",
    "        sample_urls.at[index, 'text'] = scrape_screenplay(row['script_url'])\n",
    "    except:\n",
    "        sample_urls.at[index, 'text'] = \"URL not available\""
   ]
  },
  {
   "cell_type": "code",
   "execution_count": 51,
   "metadata": {
    "ExecuteTime": {
     "end_time": "2022-12-01T12:45:58.240130Z",
     "start_time": "2022-12-01T12:45:58.223126Z"
    }
   },
   "outputs": [
    {
     "data": {
      "text/html": [
       "<div>\n",
       "<style scoped>\n",
       "    .dataframe tbody tr th:only-of-type {\n",
       "        vertical-align: middle;\n",
       "    }\n",
       "\n",
       "    .dataframe tbody tr th {\n",
       "        vertical-align: top;\n",
       "    }\n",
       "\n",
       "    .dataframe thead th {\n",
       "        text-align: right;\n",
       "    }\n",
       "</style>\n",
       "<table border=\"1\" class=\"dataframe\">\n",
       "  <thead>\n",
       "    <tr style=\"text-align: right;\">\n",
       "      <th></th>\n",
       "      <th>id</th>\n",
       "      <th>movie_title</th>\n",
       "      <th>script_url</th>\n",
       "      <th>text</th>\n",
       "    </tr>\n",
       "  </thead>\n",
       "  <tbody>\n",
       "    <tr>\n",
       "      <th>0</th>\n",
       "      <td>m0</td>\n",
       "      <td>10 things i hate about you</td>\n",
       "      <td>http://www.dailyscript.com/scripts/10Things.html</td>\n",
       "      <td>&lt;html&gt;\\r\\n&lt;head&gt;\\r\\n&lt;title&gt;10 Things I Hate Ab...</td>\n",
       "    </tr>\n",
       "    <tr>\n",
       "      <th>1</th>\n",
       "      <td>m1</td>\n",
       "      <td>1492: conquest of paradise</td>\n",
       "      <td>http://www.hundland.org/scripts/1492-Conquest...</td>\n",
       "      <td>URL not available</td>\n",
       "    </tr>\n",
       "    <tr>\n",
       "      <th>2</th>\n",
       "      <td>m2</td>\n",
       "      <td>15 minutes</td>\n",
       "      <td>http://www.dailyscript.com/scripts/15minutes....</td>\n",
       "      <td>&lt;html&gt;\\r\\n&lt;head&gt;\\r\\n&lt;title&gt;15 Minutes script b...</td>\n",
       "    </tr>\n",
       "    <tr>\n",
       "      <th>3</th>\n",
       "      <td>m3</td>\n",
       "      <td>2001: a space odyssey</td>\n",
       "      <td>http://www.scifiscripts.com/scripts/2001.txt</td>\n",
       "      <td>Note from poster to Kubrick newsgroup:\\r\\n\\r\\n...</td>\n",
       "    </tr>\n",
       "    <tr>\n",
       "      <th>4</th>\n",
       "      <td>m4</td>\n",
       "      <td>48 hrs.</td>\n",
       "      <td>http://www.awesomefilm.com/script/48hours.txt</td>\n",
       "      <td>\\n\\t\\t\\t\\t\\t\"48 HRS.\"\\n\\n\\t\\t\\t\\t\\t   by\\n\\n\\t...</td>\n",
       "    </tr>\n",
       "    <tr>\n",
       "      <th>5</th>\n",
       "      <td>m5</td>\n",
       "      <td>the fifth element</td>\n",
       "      <td>http://www.scifiscripts.com/scripts/5thelemen...</td>\n",
       "      <td>\\t\\t\\t\\tThe Fifth Element\\r\\n\\r\\n\\t\\t\\t\\tAn or...</td>\n",
       "    </tr>\n",
       "    <tr>\n",
       "      <th>6</th>\n",
       "      <td>m6</td>\n",
       "      <td>8mm</td>\n",
       "      <td>http://www.dailyscript.com/scripts/eight-mill...</td>\n",
       "      <td>&lt;html&gt;\\n\\n&lt;head&gt;\\n   &lt;title&gt;\"8MM\", by Andrew K...</td>\n",
       "    </tr>\n",
       "    <tr>\n",
       "      <th>7</th>\n",
       "      <td>m7</td>\n",
       "      <td>a nightmare on elm street 4: the dream master</td>\n",
       "      <td>http://www.hundland.org/scripts/A-Nightmare-o...</td>\n",
       "      <td>URL not available</td>\n",
       "    </tr>\n",
       "    <tr>\n",
       "      <th>8</th>\n",
       "      <td>m8</td>\n",
       "      <td>a nightmare on elm street: the dream child</td>\n",
       "      <td>http://www.hundland.org/scripts/A-Nightmare-o...</td>\n",
       "      <td>URL not available</td>\n",
       "    </tr>\n",
       "    <tr>\n",
       "      <th>9</th>\n",
       "      <td>m9</td>\n",
       "      <td>the atomic submarine</td>\n",
       "      <td>http://leonscripts.tripod.com/scripts/ATOMICS...</td>\n",
       "      <td>&lt;html&gt;\\r\\n\\r\\n&lt;head&gt;\\r\\n   &lt;title&gt;ATOMIC SUBMA...</td>\n",
       "    </tr>\n",
       "  </tbody>\n",
       "</table>\n",
       "</div>"
      ],
      "text/plain": [
       "    id                                      movie_title  \\\n",
       "0  m0                       10 things i hate about you    \n",
       "1  m1                       1492: conquest of paradise    \n",
       "2  m2                                       15 minutes    \n",
       "3  m3                            2001: a space odyssey    \n",
       "4  m4                                          48 hrs.    \n",
       "5  m5                                the fifth element    \n",
       "6  m6                                              8mm    \n",
       "7  m7    a nightmare on elm street 4: the dream master    \n",
       "8  m8       a nightmare on elm street: the dream child    \n",
       "9  m9                             the atomic submarine    \n",
       "\n",
       "                                          script_url  \\\n",
       "0   http://www.dailyscript.com/scripts/10Things.html   \n",
       "1   http://www.hundland.org/scripts/1492-Conquest...   \n",
       "2   http://www.dailyscript.com/scripts/15minutes....   \n",
       "3       http://www.scifiscripts.com/scripts/2001.txt   \n",
       "4      http://www.awesomefilm.com/script/48hours.txt   \n",
       "5   http://www.scifiscripts.com/scripts/5thelemen...   \n",
       "6   http://www.dailyscript.com/scripts/eight-mill...   \n",
       "7   http://www.hundland.org/scripts/A-Nightmare-o...   \n",
       "8   http://www.hundland.org/scripts/A-Nightmare-o...   \n",
       "9   http://leonscripts.tripod.com/scripts/ATOMICS...   \n",
       "\n",
       "                                                text  \n",
       "0  <html>\\r\\n<head>\\r\\n<title>10 Things I Hate Ab...  \n",
       "1                                  URL not available  \n",
       "2  <html>\\r\\n<head>\\r\\n<title>15 Minutes script b...  \n",
       "3  Note from poster to Kubrick newsgroup:\\r\\n\\r\\n...  \n",
       "4  \\n\\t\\t\\t\\t\\t\"48 HRS.\"\\n\\n\\t\\t\\t\\t\\t   by\\n\\n\\t...  \n",
       "5  \\t\\t\\t\\tThe Fifth Element\\r\\n\\r\\n\\t\\t\\t\\tAn or...  \n",
       "6  <html>\\n\\n<head>\\n   <title>\"8MM\", by Andrew K...  \n",
       "7                                  URL not available  \n",
       "8                                  URL not available  \n",
       "9  <html>\\r\\n\\r\\n<head>\\r\\n   <title>ATOMIC SUBMA...  "
      ]
     },
     "execution_count": 51,
     "metadata": {},
     "output_type": "execute_result"
    }
   ],
   "source": [
    "sample_urls"
   ]
  },
  {
   "cell_type": "markdown",
   "metadata": {},
   "source": [
    "The DataFrame above is truncated, so we can't see the full contents of the \"text\" column. But if we print out every row in the column, we can see that we successfully extracted text for each URL (though some of these URLs returned 404 errors)."
   ]
  },
  {
   "cell_type": "code",
   "execution_count": 52,
   "metadata": {
    "ExecuteTime": {
     "end_time": "2022-12-01T12:46:04.073230Z",
     "start_time": "2022-12-01T12:46:03.302785Z"
    },
    "scrolled": true,
    "tags": [
     "output_scroll"
    ]
   },
   "outputs": [
    {
     "name": "stdout",
     "output_type": "stream",
     "text": [
      "<html>\n",
      "<head>\n",
      "<title>10 Things I Hate About You script by Karen McCullah Lutz, Kirsten Smith & William Shakespeare</title>\n",
      "<meta name=\"description\" content=\"10 Things I Hate About You script by Karen McCullah Lutz, Kirsten Smith & William Shakespeare\">\n",
      "<meta name=\"keywords\" content=\"10 Things I Hate About You script, 10 Things I Hate About You movie script, 10 Things I Hate About You film script, 10 Things I Hate About You screenplay\">\n",
      "<meta http-equiv=\"content-type\" content=\"text/html; cha\n",
      "URL not available\n",
      "<html>\n",
      "<head>\n",
      "<title>15 Minutes script by John Hertzfeld</title>\n",
      "<meta name=\"description\" content=\"15 Minutes script by John Hertzfeld\">\n",
      "<meta name=\"keywords\" content=\"15 Minutes script, 15 Minutes movie script, 15 Minutes film script, 15 Minutes screenplay\">\n",
      "<meta http-equiv=\"content-type\" content=\"text/html; charset=iso-8859-1\">\n",
      "<meta name=\"robots\" content=\"index,follow\">\n",
      "<meta http-equiv=\"Content-Language\" content=\"EN\">\n",
      "<meta name=\"objecttype\" content=\"Document\">\n",
      "<meta name=\"Subject\"\n",
      "Note from poster to Kubrick newsgroup:\n",
      "\n",
      "I found this on a bbs a while ago and I thought I'd pass it along to all \n",
      "of you Kubrick freaks out there.\n",
      "\n",
      "02/23/89\n",
      "Transcriber's note:\n",
      "\n",
      "For all you Clarke/Kubrick/2001 fans,\n",
      "\n",
      "I found the original paper copy of this screenplay a while back and felt \n",
      "compelled to transcribe it to disk and upload it to various bulletin \n",
      "boards for the enjoyment of all.\n",
      "\n",
      "The final movie deviates from this screenplay in a number of interesting \n",
      "ways. I've tried\n",
      "\n",
      "\t\t\t\t\t\"48 HRS.\"\n",
      "\n",
      "\t\t\t\t\t   by\n",
      "\n",
      "\t\t\t\t   Roger Spottiswoode and\n",
      "\t\t\t\t   Walter Hill\n",
      "\n",
      "\t\t\t\t\t   &\n",
      "\n",
      "\t\t\t\t   Larry Gross and\n",
      "\t\t\t\t   Steven E. De Souza\n",
      "\n",
      "FADE IN:\n",
      "\n",
      "OPEN COUNTRY - DAY\n",
      "\n",
      "\tEndless green hills bisected by a ribbon of highway. A road\n",
      "\tgang clearing brush by the side of the road... Twenty-five\n",
      "\tmen in prison fatigues sweating through their mid-afternoon\n",
      "\tlabor.\n",
      "\n",
      "\tTHREE GUARDS\n",
      "\n",
      "\tFlank the working prisoners... Mountie hats, shotguns,\n",
      "\tsidearms, sunglasses; they look like they mean it.\n",
      "\n",
      "\tHIGHWAY\n",
      "\n",
      "\tA ba\n",
      "\t\t\t\tThe Fifth Element\n",
      "\n",
      "\t\t\t\tAn original script\n",
      "\t\t\t\tby\n",
      "\t\t\t\tLuc Besson\n",
      "\n",
      "\t\t\t\tRevisions by\n",
      "\t\t\t\tLuc Besson\n",
      "\t\t\t\tand\n",
      "\t\t\t\tRobert Mark Kamen\n",
      "\n",
      "\t\t\t\tAugust 1995 Draft\n",
      "\n",
      "\t\t\t\tGaumont and Les Films du Dauphin\n",
      "\n",
      "FADE IN:\n",
      "\n",
      "1\tEXT.  DESERT  NILE RIVER  VALLEY - DAY\n",
      "\n",
      "\tSomewhere in the Nile at the edge of the desert.\n",
      "\n",
      "\tCREDITS  ROLL\n",
      "\n",
      "\tWRITTEN:\tEGYPT 1913\n",
      "\n",
      "\tOMAR and his mule zigzag along the bottom of sun scorched dunes.\n",
      "\n",
      "2\tEXT.  TEMPLE  EXCAVATION - DAY\n",
      "\n",
      "\tThe mule and the boy finally reach \n",
      "<html>\n",
      "\n",
      "<head>\n",
      "   <title>\"8MM\", by Andrew Kevin Walker</title>\n",
      "</head>\n",
      "\n",
      "<body bgcolor=\"#FFFFFF\">\n",
      "   <pre> \n",
      "\n",
      "\n",
      "\n",
      "\n",
      "\n",
      "\n",
      "\n",
      "\n",
      "\n",
      "                            eight millimeter\n",
      "\n",
      "\n",
      "                            written by\n",
      "                            Andrew Kevin Walker\n",
      "\n",
      "\n",
      "\n",
      "\n",
      "\n",
      "\n",
      "\n",
      "\n",
      "\n",
      "\n",
      "                                                      5/06/97\n",
      "                                                      first\n",
      "\n",
      "\n",
      "\n",
      "\n",
      "\n",
      "\n",
      "\n",
      "\n",
      "\n",
      "\n",
      "     INT.  MIAMI AIRPORT, TERMINAL -- DAY\n",
      "\n",
      "     Amongst the weary tourist families and solitary businessmen\n",
      "\n",
      "URL not available\n",
      "URL not available\n",
      "<html>\n",
      "\n",
      "<head>\n",
      "   <title>ATOMIC SUBMARINE revised draft by Orville H. Hampton</title>\n",
      "</head>\n",
      "\n",
      "<body><!--'\"</title></head>-->\n",
      "\n",
      "<script type=\"text/javascript\">\n",
      "//OwnerIQ\n",
      "var __oiq_pct = 50;\n",
      "if( __oiq_pct>=100 || Math.floor(Math.random()*100/(100-__oiq_pct)) > 0 ) {\n",
      "var _oiqq = _oiqq || [];\n",
      "_oiqq.push(['oiq_addPageBrand','Lycos']);\n",
      "_oiqq.push(['oiq_addPageCat','Internet > Websites']);\n",
      "_oiqq.push(['oiq_addPageLifecycle','Intend']);\n",
      "_oiqq.push(['oiq_doTag']);\n",
      "(function() {\n",
      "var oiq = document.c\n"
     ]
    }
   ],
   "source": [
    "for text in sample_urls['text']:\n",
    "    print(text[:500])"
   ]
  },
  {
   "cell_type": "markdown",
   "metadata": {},
   "source": [
    "## Web Scraping"
   ]
  },
  {
   "cell_type": "markdown",
   "metadata": {},
   "source": [
    "Not all web pages will be as easy to scrape as these screenplay files, however. Let's say we wanted to scrape the lyrics for Missy Elliott's song \"The Rain (Supa Dupa Fly)\" (1997) from Genius.com."
   ]
  },
  {
   "cell_type": "markdown",
   "metadata": {},
   "source": [
    "<img src=\"../images/Missy-Elliott.png\" class=\"center\" width=\"700\" height=\"500\">"
   ]
  },
  {
   "cell_type": "markdown",
   "metadata": {},
   "source": [
    "Even at a glance, we can tell that this *Genius* web page is a lot more complicated than the *Ghostbusters* page and that it contains a lot of information beyond the lyrics.\n",
    "\n",
    "Sure enough, if we use our requests library again and try to grab the data for this web page, the underlying data is much more complicated, too."
   ]
  },
  {
   "cell_type": "code",
   "execution_count": 53,
   "metadata": {
    "ExecuteTime": {
     "end_time": "2022-12-01T12:51:45.341578Z",
     "start_time": "2022-12-01T12:51:45.132931Z"
    },
    "scrolled": true,
    "tags": [
     "output_scroll",
     "hide-output"
    ]
   },
   "outputs": [
    {
     "name": "stdout",
     "output_type": "stream",
     "text": [
      "<!doctype html>\n",
      "<html>\n",
      "  <head>\n",
      "    <meta itemprop=\"cf-country\" content=\"NL\">\n",
      "    <meta itemprop=\"long-tail-cache\" content=\"XX\">\n",
      "    <meta itemprop=\"cf-cache-status\" content=\"REVALIDATED\">\n",
      "    <meta itemprop=\"rendered-with-cache\" content=\"false\">\n",
      "    <meta itemprop=\"cf-latitude\" content=\"53.21890\">\n",
      "    <meta itemprop=\"cf-longitude\" content=\"6.54750\">\n",
      "\n",
      "    <title>Missy Elliott – The Rain (Supa Dupa Fly) Lyrics | Genius Lyrics</title>\n",
      "\n",
      "<meta http-equiv=\"Content-Type\" content=\"text/html; charset=utf-8\" />\n",
      "<meta content='width=device-width,initial-scale=1' name='viewport'>\n",
      "\n",
      "  <meta name=\"apple-itunes-app\" content=\"app-id=709482991\">\n",
      "\n",
      "<link href=\"https://assets.genius.com/images/apple-touch-icon.png?1732638268\" rel=\"apple-touch-icon\" />\n",
      "\n",
      "\n",
      "  \n",
      "\n",
      "  <link href=\"https://assets.genius.com/images/apple-touch-icon.png?1732638268\" rel=\"apple-touch-icon\" />\n",
      "\n",
      "  \n",
      "\n",
      "  <!-- Mobile IE allows us to activate ClearType technology for smoothing fonts for easy reading -->\n",
      "  <meta http-equiv=\"cleartype\" content=\"on\">\n",
      "\n",
      "\n",
      "\n",
      "\n",
      "<META name=\"y_key\" content=\"f63347d284f184b0\">\n",
      "\n",
      "<meta property=\"og:site_name\" content=\"Genius\"/>\n",
      "<meta property=\"fb:app_id\" content=\"265539304824\" />\n",
      "<meta property=\"fb:pages\" content=\"308252472676410\" />\n",
      "\n",
      "<link title=\"Genius\" type=\"application/opensearchdescription+xml\" rel=\"search\" href=\"https://genius.com/opensearch.xml\">\n",
      "\n",
      "<script>\n",
      "!function(){if('PerformanceLongTaskTiming' in window){var g=window.__tti={e:[]};\n",
      "g.o=new PerformanceObserver(function(l){g.e=g.e.concat(l.getEntries())});\n",
      "g.o.observe({entryTypes:['longtask']})}}();\n",
      "</script>\n",
      "\n",
      "\n",
      "    <!--sse-->\n",
      "\n",
      "  <script>window['Genius.ads'] = window['Genius.ads'] || [];</script>\n",
      "\n",
      "\n",
      "\n",
      "  \n",
      "  \n",
      "  <script>\n",
      "    (function () {\n",
      "      const generateUUID = () =>\n",
      "        \"xxxxxxxx-xxxx-4xxx-yxxx-xxxxxxxxxxxx\".replace(/[xy]/g, function (c) {\n",
      "          const r = (Math.random() * 16) | 0;\n",
      "          const v = c === \"x\" ? r : (r & 0x3) | 0x8;\n",
      "          return v.toString(16);\n",
      "        });\n",
      "  \n",
      "      let isLocalStorageAvailable = false;\n",
      "      const isAv...\n"
     ]
    }
   ],
   "source": [
    "response = requests.get(\"https://genius.com/Missy-elliott-the-rain-supa-dupa-fly-lyrics\")\n",
    "html_string = response.text\n",
    "print(html_string[:2000] + \"...\")"
   ]
  },
  {
   "cell_type": "markdown",
   "metadata": {},
   "source": [
    "How can we extract just the song lyrics from this messy soup of a document? Luckily there's a Python library that can help us called BeautifulSoup, which parses HTML documents.\n",
    "\n",
    "To understand BeautifulSoup and HTML, we're going to briefly depart from our Missy Elliot lyrics challenge to consider a much simpler website. This toy website was made by the poet, programmer, and professor Allison Parrish explicitly for the purposes of teaching BeautifulSoup."
   ]
  },
  {
   "cell_type": "markdown",
   "metadata": {},
   "source": [
    "## HTML"
   ]
  },
  {
   "cell_type": "markdown",
   "metadata": {},
   "source": [
    "Parrish's website is titled \"Kittens and the TV Shows They Love.\" It can be found at the following URL: http://static.decontextualize.com/kittens.html"
   ]
  },
  {
   "cell_type": "markdown",
   "metadata": {},
   "source": [
    "<img src=\"../images/kittens-web.png\" class=\"center\" width=\"800\" height=\"500\">"
   ]
  },
  {
   "cell_type": "markdown",
   "metadata": {},
   "source": [
    "If we use our requests library on this Kittens TV website, this is what we get:"
   ]
  },
  {
   "cell_type": "code",
   "execution_count": 54,
   "metadata": {},
   "outputs": [
    {
     "name": "stdout",
     "output_type": "stream",
     "text": [
      "<!doctype html>\n",
      "<html>\n",
      "\t<head>\n",
      "\t\t<title>Kittens!</title>\n",
      "\t\t<style type=\"text/css\">\n",
      "\t\t\tspan.lastcheckup { font-family: \"Courier\", fixed; font-size: 11px; }\n",
      "\t\t</style>\n",
      "\t</head>\n",
      "\t<body>\n",
      "\t\t<h1>Kittens and the TV Shows They Love</h1>\n",
      "\t\t<div class=\"kitten\">\n",
      "\t\t\t<h2>Fluffy</h2>\n",
      "\t\t\t<div><img src=\"http://placekitten.com/120/120\"></div>\n",
      "\t\t\t<ul class=\"tvshows\">\n",
      "\t\t\t\t<li>\n",
      "\t\t\t\t\t<a href=\"http://www.imdb.com/title/tt0106145/\">Deep Space Nine</a>\n",
      "\t\t\t\t</li>\n",
      "\t\t\t\t<li>\n",
      "\t\t\t\t\t<a href=\"http://www.imdb.com/title/tt0088576/\">Mr. Belvedere</a>\n",
      "\t\t\t\t</li>\n",
      "\t\t\t</ul>\n",
      "\t\t\tLast check-up: <span class=\"lastcheckup\">2014-01-17</span>\n",
      "\t\t</div>\n",
      "\t\t<div class=\"kitten\">\n",
      "\t\t\t<h2>Monsieur Whiskeurs</h2>\n",
      "\t\t\t<div><img src=\"http://placekitten.com/110/110\"></div>\n",
      "\t\t\t<ul class=\"tvshows\">\n",
      "\t\t\t\t<li>\n",
      "\t\t\t\t\t<a href=\"http://www.imdb.com/title/tt0106179/\">The X-Files</a>\n",
      "\t\t\t\t</li>\n",
      "\t\t\t\t<li>\n",
      "\t\t\t\t\t<a href=\"http://www.imdb.com/title/tt0098800/\">Fresh Prince</a>\n",
      "\t\t\t\t</li>\n",
      "\t\t\t</ul>\n",
      "\t\t\tLast check-up: <span class=\"lastcheckup\">2013-11-02</span>\n",
      "\t\t</div>\n",
      "\t</body>\n",
      "</html>\n",
      "\n",
      "\n"
     ]
    }
   ],
   "source": [
    "response = requests.get(\"http://static.decontextualize.com/kittens.html\")\n",
    "html_string = response.text\n",
    "print(html_string)"
   ]
  },
  {
   "cell_type": "markdown",
   "metadata": {},
   "source": [
    "### HTML Tags"
   ]
  },
  {
   "cell_type": "markdown",
   "metadata": {},
   "source": [
    "This is an HTML document. HTML stands for HyperText Markup Language. It is the standard language for writing web page documents. The most important thing you need to know about HTML is that the language uses HTML \"tags\" to represent different elements, such as a main header `<h1>`. "
   ]
  },
  {
   "cell_type": "markdown",
   "metadata": {},
   "source": [
    "| HTML Tag                | Explanation                              |\n",
    "|--------------------|-------------------------------------------|\n",
    "| <\\!DOCTYPE>        | Defines document type                 |\n",
    "| <html\\>             | Defines HTML document                  |\n",
    "| <head\\>             | Main information about document    |\n",
    "| <title\\>            | Title for document          |\n",
    "| <body\\>             | Document body               |\n",
    "| <h1\\> to <h6\\>       |  Headings                    |\n",
    "| <p\\>                | Paragraph                       |\n",
    "| <br\\>               | Line break               |\n",
    "| <\\!\\-\\-comment here-\\-> | Comment                         |\n",
    "| <img\\> | Image                         |\n",
    "| <a\\> | Hyperlink                       |\n",
    "| <ul\\> | Unordered list                     |\n",
    "| <ol\\> | Ordered list                     |\n",
    "| <li\\> | List item                     |\n",
    "| <style\\> | Style information for a document                    |\n",
    "| <div\\> | Section in a document                   |\n",
    "| <span\\> | Section in a document                   |"
   ]
  },
  {
   "cell_type": "markdown",
   "metadata": {},
   "source": [
    "HTML tags often, but not always, require a \"closing\" tag. For example, the main header \"Kittens and the TV Shows They Love\" will be surrounded by `<h1>` (opening tag) and `</h1>` (closing tag) on either side: `<h1>Kittens and the TV Shows They Love</h1>`"
   ]
  },
  {
   "cell_type": "markdown",
   "metadata": {},
   "source": [
    "### HTML Attributes, Classes, and IDs"
   ]
  },
  {
   "cell_type": "markdown",
   "metadata": {},
   "source": [
    "HTML elements sometimes come with even more information inside a tag. This will often be a keyword (like `class` or `id`) followed by an equals sign `=` and a further descriptor such as `<div class=\"kitten\">`"
   ]
  },
  {
   "cell_type": "markdown",
   "metadata": {},
   "source": [
    "We need to know about tags as well as attributes, classes, and IDs because this is how we're going to extract specific HTML data with BeautifulSoup."
   ]
  },
  {
   "cell_type": "markdown",
   "metadata": {},
   "source": [
    "## BeautifulSoup"
   ]
  },
  {
   "cell_type": "code",
   "execution_count": 55,
   "metadata": {
    "ExecuteTime": {
     "end_time": "2022-12-01T14:11:01.832698Z",
     "start_time": "2022-12-01T14:11:01.680595Z"
    }
   },
   "outputs": [],
   "source": [
    "from bs4 import BeautifulSoup"
   ]
  },
  {
   "cell_type": "markdown",
   "metadata": {},
   "source": [
    "To make a BeautifulSoup document, we call `BeautifulSoup()` with two parameters: the `html_string` from our HTTP request and [the kind of parser](https://www.crummy.com/software/BeautifulSoup/bs4/doc/#specifying-the-parser-to-use) that we want to use, which will always be `\"html.parser\"` for our purposes."
   ]
  },
  {
   "cell_type": "code",
   "execution_count": 56,
   "metadata": {
    "ExecuteTime": {
     "end_time": "2022-12-01T14:11:25.707988Z",
     "start_time": "2022-12-01T14:11:25.025919Z"
    }
   },
   "outputs": [],
   "source": [
    "response = requests.get(\"http://static.decontextualize.com/kittens.html\")\n",
    "html_string = response.text\n",
    "\n",
    "document = BeautifulSoup(html_string, \"html.parser\")"
   ]
  },
  {
   "cell_type": "code",
   "execution_count": 57,
   "metadata": {
    "ExecuteTime": {
     "end_time": "2022-12-01T14:11:25.907530Z",
     "start_time": "2022-12-01T14:11:25.882526Z"
    }
   },
   "outputs": [
    {
     "data": {
      "text/plain": [
       "<!DOCTYPE html>\n",
       "\n",
       "<html>\n",
       "<head>\n",
       "<title>Kittens!</title>\n",
       "<style type=\"text/css\">\n",
       "\t\t\tspan.lastcheckup { font-family: \"Courier\", fixed; font-size: 11px; }\n",
       "\t\t</style>\n",
       "</head>\n",
       "<body>\n",
       "<h1>Kittens and the TV Shows They Love</h1>\n",
       "<div class=\"kitten\">\n",
       "<h2>Fluffy</h2>\n",
       "<div><img src=\"http://placekitten.com/120/120\"/></div>\n",
       "<ul class=\"tvshows\">\n",
       "<li>\n",
       "<a href=\"http://www.imdb.com/title/tt0106145/\">Deep Space Nine</a>\n",
       "</li>\n",
       "<li>\n",
       "<a href=\"http://www.imdb.com/title/tt0088576/\">Mr. Belvedere</a>\n",
       "</li>\n",
       "</ul>\n",
       "\t\t\tLast check-up: <span class=\"lastcheckup\">2014-01-17</span>\n",
       "</div>\n",
       "<div class=\"kitten\">\n",
       "<h2>Monsieur Whiskeurs</h2>\n",
       "<div><img src=\"http://placekitten.com/110/110\"/></div>\n",
       "<ul class=\"tvshows\">\n",
       "<li>\n",
       "<a href=\"http://www.imdb.com/title/tt0106179/\">The X-Files</a>\n",
       "</li>\n",
       "<li>\n",
       "<a href=\"http://www.imdb.com/title/tt0098800/\">Fresh Prince</a>\n",
       "</li>\n",
       "</ul>\n",
       "\t\t\tLast check-up: <span class=\"lastcheckup\">2013-11-02</span>\n",
       "</div>\n",
       "</body>\n",
       "</html>"
      ]
     },
     "execution_count": 57,
     "metadata": {},
     "output_type": "execute_result"
    }
   ],
   "source": [
    "document"
   ]
  },
  {
   "cell_type": "markdown",
   "metadata": {},
   "source": [
    "### Extract HTML Element"
   ]
  },
  {
   "cell_type": "markdown",
   "metadata": {},
   "source": [
    "We can use the `.find()` method to find and extract certain elements, such as a main header."
   ]
  },
  {
   "cell_type": "code",
   "execution_count": 58,
   "metadata": {
    "ExecuteTime": {
     "end_time": "2022-12-01T14:11:28.639552Z",
     "start_time": "2022-12-01T14:11:28.629016Z"
    }
   },
   "outputs": [
    {
     "data": {
      "text/plain": [
       "<h1>Kittens and the TV Shows They Love</h1>"
      ]
     },
     "execution_count": 58,
     "metadata": {},
     "output_type": "execute_result"
    }
   ],
   "source": [
    "document.find(\"h1\")"
   ]
  },
  {
   "cell_type": "markdown",
   "metadata": {},
   "source": [
    "If we want only the text contained between those tags, we can use `.text` to extract just the text."
   ]
  },
  {
   "cell_type": "code",
   "execution_count": 59,
   "metadata": {
    "ExecuteTime": {
     "end_time": "2022-12-01T14:11:29.460345Z",
     "start_time": "2022-12-01T14:11:29.454941Z"
    }
   },
   "outputs": [
    {
     "data": {
      "text/plain": [
       "'Kittens and the TV Shows They Love'"
      ]
     },
     "execution_count": 59,
     "metadata": {},
     "output_type": "execute_result"
    }
   ],
   "source": [
    "document.find(\"h1\").text"
   ]
  },
  {
   "cell_type": "code",
   "execution_count": 60,
   "metadata": {
    "ExecuteTime": {
     "end_time": "2022-12-01T14:11:30.187867Z",
     "start_time": "2022-12-01T14:11:30.178419Z"
    }
   },
   "outputs": [
    {
     "data": {
      "text/plain": [
       "str"
      ]
     },
     "execution_count": 60,
     "metadata": {},
     "output_type": "execute_result"
    }
   ],
   "source": [
    "type(document.find(\"h1\").text)"
   ]
  },
  {
   "cell_type": "markdown",
   "metadata": {},
   "source": [
    "Find the HTML element that contains an image."
   ]
  },
  {
   "cell_type": "code",
   "execution_count": 61,
   "metadata": {
    "ExecuteTime": {
     "end_time": "2022-12-01T14:11:31.141327Z",
     "start_time": "2022-12-01T14:11:31.132094Z"
    },
    "tags": [
     "hide-output"
    ]
   },
   "outputs": [
    {
     "data": {
      "text/plain": [
       "<img src=\"http://placekitten.com/120/120\"/>"
      ]
     },
     "execution_count": 61,
     "metadata": {},
     "output_type": "execute_result"
    }
   ],
   "source": [
    "document.find(\"img\")"
   ]
  },
  {
   "cell_type": "markdown",
   "metadata": {},
   "source": [
    "### Extract Multiple HTML Elements"
   ]
  },
  {
   "cell_type": "markdown",
   "metadata": {},
   "source": [
    "You can also extract multiple HTML elements at a time with `.find_all()`"
   ]
  },
  {
   "cell_type": "code",
   "execution_count": 62,
   "metadata": {
    "ExecuteTime": {
     "end_time": "2022-12-01T14:11:34.547532Z",
     "start_time": "2022-12-01T14:11:34.538307Z"
    }
   },
   "outputs": [
    {
     "data": {
      "text/plain": [
       "[<img src=\"http://placekitten.com/120/120\"/>,\n",
       " <img src=\"http://placekitten.com/110/110\"/>]"
      ]
     },
     "execution_count": 62,
     "metadata": {},
     "output_type": "execute_result"
    }
   ],
   "source": [
    "document.find_all(\"img\")"
   ]
  },
  {
   "cell_type": "code",
   "execution_count": 63,
   "metadata": {
    "ExecuteTime": {
     "end_time": "2022-12-01T14:11:34.727376Z",
     "start_time": "2022-12-01T14:11:34.716843Z"
    },
    "tags": [
     "hide-output"
    ]
   },
   "outputs": [
    {
     "data": {
      "text/plain": [
       "[<div class=\"kitten\">\n",
       " <h2>Fluffy</h2>\n",
       " <div><img src=\"http://placekitten.com/120/120\"/></div>\n",
       " <ul class=\"tvshows\">\n",
       " <li>\n",
       " <a href=\"http://www.imdb.com/title/tt0106145/\">Deep Space Nine</a>\n",
       " </li>\n",
       " <li>\n",
       " <a href=\"http://www.imdb.com/title/tt0088576/\">Mr. Belvedere</a>\n",
       " </li>\n",
       " </ul>\n",
       " \t\t\tLast check-up: <span class=\"lastcheckup\">2014-01-17</span>\n",
       " </div>,\n",
       " <div class=\"kitten\">\n",
       " <h2>Monsieur Whiskeurs</h2>\n",
       " <div><img src=\"http://placekitten.com/110/110\"/></div>\n",
       " <ul class=\"tvshows\">\n",
       " <li>\n",
       " <a href=\"http://www.imdb.com/title/tt0106179/\">The X-Files</a>\n",
       " </li>\n",
       " <li>\n",
       " <a href=\"http://www.imdb.com/title/tt0098800/\">Fresh Prince</a>\n",
       " </li>\n",
       " </ul>\n",
       " \t\t\tLast check-up: <span class=\"lastcheckup\">2013-11-02</span>\n",
       " </div>]"
      ]
     },
     "execution_count": 63,
     "metadata": {},
     "output_type": "execute_result"
    }
   ],
   "source": [
    "document.find_all(\"div\", attrs={\"class\": \"kitten\"})"
   ]
  },
  {
   "cell_type": "code",
   "execution_count": 64,
   "metadata": {
    "ExecuteTime": {
     "end_time": "2022-12-01T14:11:37.016297Z",
     "start_time": "2022-12-01T14:11:37.009833Z"
    }
   },
   "outputs": [
    {
     "data": {
      "text/plain": [
       "'Fluffy'"
      ]
     },
     "execution_count": 64,
     "metadata": {},
     "output_type": "execute_result"
    }
   ],
   "source": [
    "document.find(\"h2\").text"
   ]
  },
  {
   "cell_type": "code",
   "execution_count": 65,
   "metadata": {
    "ExecuteTime": {
     "end_time": "2022-12-01T14:11:38.057407Z",
     "start_time": "2022-12-01T14:11:38.047880Z"
    }
   },
   "outputs": [
    {
     "data": {
      "text/plain": [
       "[<h2>Fluffy</h2>, <h2>Monsieur Whiskeurs</h2>]"
      ]
     },
     "execution_count": 65,
     "metadata": {},
     "output_type": "execute_result"
    }
   ],
   "source": [
    "document.find_all(\"h2\")"
   ]
  },
  {
   "cell_type": "markdown",
   "metadata": {},
   "source": [
    "``` {warning}\n",
    "Heads up! The code below will cause an error.\n",
    "```"
   ]
  },
  {
   "cell_type": "markdown",
   "metadata": {},
   "source": [
    "Let's try to extract the text from all the header2 elements:"
   ]
  },
  {
   "cell_type": "code",
   "execution_count": 66,
   "metadata": {
    "tags": [
     "hide-output"
    ]
   },
   "outputs": [
    {
     "ename": "AttributeError",
     "evalue": "ResultSet object has no attribute 'text'. You're probably treating a list of elements like a single element. Did you call find_all() when you meant to call find()?",
     "output_type": "error",
     "traceback": [
      "\u001b[1;31m---------------------------------------------------------------------------\u001b[0m",
      "\u001b[1;31mAttributeError\u001b[0m                            Traceback (most recent call last)",
      "Cell \u001b[1;32mIn[66], line 1\u001b[0m\n\u001b[1;32m----> 1\u001b[0m \u001b[43mdocument\u001b[49m\u001b[38;5;241;43m.\u001b[39;49m\u001b[43mfind_all\u001b[49m\u001b[43m(\u001b[49m\u001b[38;5;124;43m\"\u001b[39;49m\u001b[38;5;124;43mh2\u001b[39;49m\u001b[38;5;124;43m\"\u001b[39;49m\u001b[43m)\u001b[49m\u001b[38;5;241;43m.\u001b[39;49m\u001b[43mtext\u001b[49m\n",
      "File \u001b[1;32mc:\\Users\\greta\\AppData\\Local\\Programs\\Python\\Python310\\lib\\site-packages\\bs4\\element.py:2428\u001b[0m, in \u001b[0;36mResultSet.__getattr__\u001b[1;34m(self, key)\u001b[0m\n\u001b[0;32m   2426\u001b[0m \u001b[38;5;28;01mdef\u001b[39;00m \u001b[38;5;21m__getattr__\u001b[39m(\u001b[38;5;28mself\u001b[39m, key):\n\u001b[0;32m   2427\u001b[0m \u001b[38;5;250m    \u001b[39m\u001b[38;5;124;03m\"\"\"Raise a helpful exception to explain a common code fix.\"\"\"\u001b[39;00m\n\u001b[1;32m-> 2428\u001b[0m     \u001b[38;5;28;01mraise\u001b[39;00m \u001b[38;5;167;01mAttributeError\u001b[39;00m(\n\u001b[0;32m   2429\u001b[0m         \u001b[38;5;124m\"\u001b[39m\u001b[38;5;124mResultSet object has no attribute \u001b[39m\u001b[38;5;124m'\u001b[39m\u001b[38;5;132;01m%s\u001b[39;00m\u001b[38;5;124m'\u001b[39m\u001b[38;5;124m. You\u001b[39m\u001b[38;5;124m'\u001b[39m\u001b[38;5;124mre probably treating a list of elements like a single element. Did you call find_all() when you meant to call find()?\u001b[39m\u001b[38;5;124m\"\u001b[39m \u001b[38;5;241m%\u001b[39m key\n\u001b[0;32m   2430\u001b[0m     )\n",
      "\u001b[1;31mAttributeError\u001b[0m: ResultSet object has no attribute 'text'. You're probably treating a list of elements like a single element. Did you call find_all() when you meant to call find()?"
     ]
    }
   ],
   "source": [
    "document.find_all(\"h2\").text"
   ]
  },
  {
   "cell_type": "markdown",
   "metadata": {},
   "source": [
    "Uh oh. That didn't work! In order to extract text data from multiple HTML elements, we need a `for` loop and some list-building."
   ]
  },
  {
   "cell_type": "code",
   "execution_count": null,
   "metadata": {},
   "outputs": [],
   "source": [
    "all_h2_headers = document.find_all(\"h2\")"
   ]
  },
  {
   "cell_type": "code",
   "execution_count": null,
   "metadata": {},
   "outputs": [
    {
     "data": {
      "text/plain": [
       "[<h2>Fluffy</h2>, <h2>Monsieur Whiskeurs</h2>]"
      ]
     },
     "execution_count": 26,
     "metadata": {},
     "output_type": "execute_result"
    }
   ],
   "source": [
    "all_h2_headers"
   ]
  },
  {
   "cell_type": "markdown",
   "metadata": {},
   "source": [
    "First we will make an empty list called `h2_headers`.\n",
    "\n",
    "Then `for` each `header` in `all_h2_headers`, we will grab the `.text`, put it into a variable called `header_contents`, then `.append()` it to our `h2_headers` list."
   ]
  },
  {
   "cell_type": "code",
   "execution_count": null,
   "metadata": {},
   "outputs": [],
   "source": [
    "h2_headers = []\n",
    "for header in all_h2_headers:\n",
    "    header_contents = header.text\n",
    "    h2_headers.append(header_contents)"
   ]
  },
  {
   "cell_type": "code",
   "execution_count": null,
   "metadata": {},
   "outputs": [
    {
     "data": {
      "text/plain": [
       "['Fluffy', 'Monsieur Whiskeurs']"
      ]
     },
     "execution_count": 28,
     "metadata": {},
     "output_type": "execute_result"
    }
   ],
   "source": [
    "h2_headers"
   ]
  },
  {
   "cell_type": "markdown",
   "metadata": {},
   "source": [
    "How might we transform this for loop into a *list comprehension*?\n",
    "```\n",
    "#For Loop\n",
    "h2_headers = []\n",
    "for header in all_h2_headers:\n",
    "    header_contents = header.text\n",
    "    h2_headers.append(header_contents)\n",
    "```"
   ]
  },
  {
   "cell_type": "markdown",
   "metadata": {},
   "source": [
    "**Check out the *list comprehension* answer here**"
   ]
  },
  {
   "cell_type": "code",
   "execution_count": null,
   "metadata": {
    "tags": [
     "hide-cell"
    ]
   },
   "outputs": [
    {
     "data": {
      "text/plain": [
       "['Fluffy', 'Monsieur Whiskeurs']"
      ]
     },
     "execution_count": 29,
     "metadata": {},
     "output_type": "execute_result"
    }
   ],
   "source": [
    "h2_headers = [header.text for header in all_h2_headers]\n",
    "h2_headers"
   ]
  },
  {
   "cell_type": "markdown",
   "metadata": {},
   "source": [
    "## Inspect HTML Elements with Browser"
   ]
  },
  {
   "cell_type": "markdown",
   "metadata": {},
   "source": [
    "Most times if you're looking to extract something from an HTML document, it's best to use your \"Inspect\" capabilities in your web browser. You can hover over elements that you're interested in and find that specific element in the HTML."
   ]
  },
  {
   "cell_type": "markdown",
   "metadata": {},
   "source": [
    "<img src=\"../images/inspect.png\" class=\"center\" width=\"1000\" height=\"600\">"
   ]
  },
  {
   "cell_type": "markdown",
   "metadata": {},
   "source": [
    "For example, if we hover over the main header:"
   ]
  },
  {
   "cell_type": "markdown",
   "metadata": {},
   "source": [
    "<img src=\"../images/inspect-h1.png\" class=\"center\" width=\"700\" height=\"400\">"
   ]
  },
  {
   "cell_type": "markdown",
   "metadata": {},
   "source": [
    "## Your Turn!"
   ]
  },
  {
   "cell_type": "markdown",
   "metadata": {},
   "source": [
    "Ok so now we've learned a little bit about how to use BeautifulSoup to parse HTML documents. So how would we apply what we've learned to extract Missy Elliott lyrics?"
   ]
  },
  {
   "cell_type": "code",
   "execution_count": null,
   "metadata": {
    "ExecuteTime": {
     "end_time": "2022-12-01T12:49:46.175490Z",
     "start_time": "2022-12-01T12:49:45.836451Z"
    }
   },
   "outputs": [],
   "source": [
    "response = requests.get(\"https://genius.com/Missy-elliott-the-rain-supa-dupa-fly-lyrics\")\n",
    "html_str = response.text\n",
    "\n",
    "document = BeautifulSoup(html_str, \"html.parser\")"
   ]
  },
  {
   "cell_type": "code",
   "execution_count": null,
   "metadata": {
    "ExecuteTime": {
     "end_time": "2022-12-01T12:50:42.578119Z",
     "start_time": "2022-12-01T12:50:42.569490Z"
    },
    "scrolled": true,
    "tags": [
     "output_scroll"
    ]
   },
   "outputs": [
    {
     "data": {
      "text/plain": [
       "\"\\n\\n\\n\\n\\n\\n\\n\\n\\nMissy\\xa0Elliott – The Rain (Supa Dupa Fly) Lyrics | Genius Lyrics\\n\\n\\n\\n\\n\\n\\n\\n\\n\\n\\n\\n\\n\\n\\n\\n\\n\\n\\n\\n\\n\\n\\n\\n\\n\\n\\n\\n\\n\\n\\n\\n\\n\\n\\n\\n\\n\\n\\n\\n\\n\\n\\n\\n\\n\\n\\n\\n\\n\\n\\n\\n\\n\\n\\n\\n\\n\\n\\n\\n\\n\\n\\nFeaturedChartsVideosPromote Your MusicSign Up8The Rain (Supa Dupa Fly)Missy ElliottTrack 4 on\\xa0Supa Dupa Fly \\xa0ProducerTimbaland“The Rain” is as impressionistic as any lyric in rap; it sets a numinous mood. Furthermore,\\n\\nthis was Missy Elliott’s first single, and it also spawned her first music… Read More\\xa0May 20, 19971 viewer132.8K views48 ContributorsThe Rain (Supa Dupa Fly) Lyrics[Intro: Missy Elliott, Ann Peebles & Timbaland]Run the trackMe, I'm supa flySupa-dupa fly, supa-dupa fly (I can't stand the rain)Me, I'm supa fly (Against my window)Supa-dupa fly, supa-dupa fly (I can't stand the rain)Me, I'm supa fly (Against my window)Supa-dupa fly, supa-dupa fly (I-I can't stand the rain)Me, I'm supa fly (Against my window)[Verse 1: Missy Elliott]When the rain hits my windowI take in— me some indoMe and Timbaland, ooh (Uh-huh), we sang a jangle (Uh-huh)We so...\""
      ]
     },
     "execution_count": 10,
     "metadata": {},
     "output_type": "execute_result"
    }
   ],
   "source": [
    "document.text[:1000] + \"...\""
   ]
  },
  {
   "cell_type": "markdown",
   "metadata": {},
   "source": [
    "https://genius.com/Missy-elliott-the-rain-supa-dupa-fly-lyrics"
   ]
  },
  {
   "cell_type": "markdown",
   "metadata": {},
   "source": [
    "What HTML element do we need to \"find\" to extract the song lyrics?"
   ]
  },
  {
   "cell_type": "markdown",
   "metadata": {},
   "source": [
    "**Check answer here**"
   ]
  },
  {
   "cell_type": "code",
   "execution_count": null,
   "metadata": {
    "tags": [
     "output_scroll",
     "hide-cell"
    ]
   },
   "outputs": [
    {
     "name": "stdout",
     "output_type": "stream",
     "text": [
      "[Intro: Missy Elliott,  Ann Peebles  &  Timbaland ] Run the track Me, I'm supa fly Supa-dupa fly, supa-dupa fly  ( I can't stand the rain ) Me, I'm supa fly  ( Against my window ) Supa-dupa fly, supa-dupa fly  ( I can't stand the rain ) Me, I'm supa fly  ( Against my window ) Supa-dupa fly, supa-dupa fly  ( I-I can't stand the rain ) Me, I'm supa fly  ( Against my window ) [Verse 1: Missy Elliott] When the rain hits my window I take in— me some indo Me and Timbaland, ooh (Uh-huh), we sang a jangle (Uh-huh) We so tight, that you get our styles tangled Sway or do-si-do like you loco (Uh-huh) \"Can we get kinky tonight?\" Like Coko, so-so You don't wanna play with my Yo-Yo (Uh-huh) I smoke my hydro on the D-low (D-D-D-D-D-low) [Chorus: Ann Peebles] I can't stand the rain (Uh-huh, uh-huh) Against my window (Against my window) I can't stand the rain (Uh-huh, uh-huh) Against my window (Against my window) I can't stand the rain (Uh-huh, uh-huh) Against my window (Against my window) I-I can't stand the rain (Uh-huh, uh-huh) Against my window\n",
      "[Verse 2: Missy Elliott] Beep, beep, who got the keys to the Jeep? Vroom (Uh-huh) I'm driving to the beach Top down, loud sounds , see my peeps (Uh) Give them pounds, now look who it be (Who it be?) It be me-me-me and Timothy (Me-me) Look like it's 'bout to rain, what a shame (Uh-huh) I got the Armor All to shine up the stain Oh, Missy, try to maintain Ficky-ficky-ficky-ficky-ficky-ficky-ficky I can't stand the rain (Uh-huh, uh-huh) [Chorus: Ann Peebles] I can't stand the rain (Uh-huh, uh-huh) Against my window I-I can't stand the rain (Uh-huh, uh-huh) Against my window I can't stand the rain (Uh-huh, uh-huh) Against my window I can't stand the rain [Verse 3: Missy Elliott &  Ann Peebles ] I feel the wind Five, six, seven, eight, nine, ten (Nine, ten) Begin, I sit on hills like Lauryn Until the rain starts coming down, pouring Chill, I got my umbrella My finger waves these days, they fall like Humpty (Uh-huh, uh-huh) Chumpy, I break up with him before he dump me To have me, yes, you lucky  ( I can't stand the rain )\n",
      "[Outro: Ann Peebles] Against my window (Uh-huh) I can't stand the rain (Uh-huh, uh-huh) Against my window (Against my window) I-I can't stand the rain (Uh-huh) Against my window (Uh) I can't stand the rain (Uh-huh) Against my window (Nah) I can't stand the rain (Uh, like that, baby) I can't stand the rain (Can you stand the rain? Uh-uh, can you stand the rain?) I can't stand the rain (Word, can you stand the rain?) I can't stand the rain (Uh-huh, uh-huh, can you stand the rain?Uh-huh, can you stand the rain?) I can't stand the rain (Word) Against my window (Uh-huh) I can't stand the rain Against my window (Uh-uh) I-I can't stand the rain (Hm) Against my window (Yeah) I can't stand the rain (Oh, yeah, break it down like that) Against my window (Check it out, baby) I can't stand the rain (Uh-huh, you like that? Uh-huh) I can't stand the rain (Uh, uh) I can't stand the rain (You're killing me, baby, you're killing me) I can't stand the rain\n"
     ]
    }
   ],
   "source": [
    "lyrics_tag = document.find_all(\"div\", attrs={\"class\":\"Lyrics__Container-sc-1ynbvzw-1 kUgSbL\"})\n",
    "\n",
    "lyrics = []\n",
    "for content in lyrics_tag:\n",
    "    line = content.get_text(separator=\" \")\n",
    "    lyrics.append(line)\n",
    "\n",
    "for content in lyrics:\n",
    "    print(content)"
   ]
  },
  {
   "cell_type": "markdown",
   "metadata": {},
   "source": [
    "What HTML element do we need to \"find\" to extract the title?"
   ]
  },
  {
   "cell_type": "markdown",
   "metadata": {},
   "source": [
    "**Check answer here**"
   ]
  },
  {
   "cell_type": "code",
   "execution_count": null,
   "metadata": {
    "tags": [
     "hide-cell"
    ]
   },
   "outputs": [
    {
     "name": "stdout",
     "output_type": "stream",
     "text": [
      "The Rain (Supa Dupa Fly)\n"
     ]
    }
   ],
   "source": [
    "song_title = document.find('h1').text\n",
    "print(song_title)"
   ]
  },
  {
   "cell_type": "markdown",
   "metadata": {},
   "source": [
    "If there is anything wrong, please open [an issue on GitHub](https://github.com/GroningenDH/Cultural-Analytics-Open-Science-Guide/issues) or email f.pianzola@rug.nl"
   ]
  }
 ],
 "metadata": {
  "kernelspec": {
   "display_name": "Python 3",
   "language": "python",
   "name": "python3"
  },
  "language_info": {
   "codemirror_mode": {
    "name": "ipython",
    "version": 3
   },
   "file_extension": ".py",
   "mimetype": "text/x-python",
   "name": "python",
   "nbconvert_exporter": "python",
   "pygments_lexer": "ipython3",
   "version": "3.10.10"
  },
  "toc": {
   "base_numbering": 1,
   "nav_menu": {},
   "number_sections": true,
   "sideBar": true,
   "skip_h1_title": false,
   "title_cell": "Table of Contents",
   "title_sidebar": "Contents",
   "toc_cell": false,
   "toc_position": {},
   "toc_section_display": true,
   "toc_window_display": false
  },
  "varInspector": {
   "cols": {
    "lenName": 16,
    "lenType": 16,
    "lenVar": 40
   },
   "kernels_config": {
    "python": {
     "delete_cmd_postfix": "",
     "delete_cmd_prefix": "del ",
     "library": "var_list.py",
     "varRefreshCmd": "print(var_dic_list())"
    },
    "r": {
     "delete_cmd_postfix": ") ",
     "delete_cmd_prefix": "rm(",
     "library": "var_list.r",
     "varRefreshCmd": "cat(var_dic_list()) "
    }
   },
   "types_to_exclude": [
    "module",
    "function",
    "builtin_function_or_method",
    "instance",
    "_Feature"
   ],
   "window_display": false
  }
 },
 "nbformat": 4,
 "nbformat_minor": 4
}
