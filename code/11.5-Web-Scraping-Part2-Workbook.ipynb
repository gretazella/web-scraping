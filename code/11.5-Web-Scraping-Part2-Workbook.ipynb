{
 "cells": [
  {
   "cell_type": "raw",
   "metadata": {},
   "source": [
    "---\n",
    "author: \"Melanie Walsh\"\n",
    "---"
   ]
  },
  {
   "cell_type": "markdown",
   "metadata": {},
   "source": [
    "# Web Scraping — Part 2 — Workbook"
   ]
  },
  {
   "cell_type": "markdown",
   "metadata": {},
   "source": [
    "In this lesson, we're going to introduce how to scrape multiple web pages from the internet with the Python libraries requests and BeautifulSoup."
   ]
  },
  {
   "cell_type": "markdown",
   "metadata": {},
   "source": [
    "---"
   ]
  },
  {
   "cell_type": "markdown",
   "metadata": {},
   "source": [
    "## Quick Demonstration of Image Scraping — NYT Front Page"
   ]
  },
  {
   "cell_type": "markdown",
   "metadata": {},
   "source": [
    "### Import Requests and BeautifulSoup"
   ]
  },
  {
   "cell_type": "markdown",
   "metadata": {},
   "source": [
    "Once again, we're going to use the `requests` library and the `BeautifulSoup` library to scrape data."
   ]
  },
  {
   "cell_type": "code",
   "execution_count": 1,
   "metadata": {},
   "outputs": [],
   "source": [
    "import requests\n",
    "from bs4 import BeautifulSoup"
   ]
  },
  {
   "cell_type": "markdown",
   "metadata": {},
   "source": [
    "### Get HTML Data and Extract Text"
   ]
  },
  {
   "cell_type": "markdown",
   "metadata": {},
   "source": [
    "*The New York Times* Front Page: https://nytimes.com"
   ]
  },
  {
   "cell_type": "markdown",
   "metadata": {},
   "source": [
    "Here we're going to request the url for *The New York Times* front page, extract the text of the web page, then transform it into BeautifulSoup document."
   ]
  },
  {
   "cell_type": "code",
   "execution_count": 2,
   "metadata": {},
   "outputs": [],
   "source": [
    "response = requests.get(\"https://nytimes.com\")\n",
    "html_string = response.text\n",
    "document = BeautifulSoup(html_string, \"html.parser\")"
   ]
  },
  {
   "cell_type": "markdown",
   "metadata": {},
   "source": [
    "Here we search through the HTML code to find all the `<img>` tags:"
   ]
  },
  {
   "cell_type": "code",
   "execution_count": 3,
   "metadata": {
    "scrolled": true
   },
   "outputs": [
    {
     "data": {
      "text/plain": [
       "[<img alt=\"The Morning Logo\" class=\"\" src=\"/vi-assets/static-assets/icon-the-morning_144x144-b12a6923b6ad9102b766352261b1a847.webp\"/>,\n",
       " <img alt=\"The Upshot Logo\" class=\"\" src=\"/vi-assets/static-assets/icon-the-upshot_144x144-0b1553ff703bbd07ac8fe73e6d215888.webp\"/>,\n",
       " <img alt=\"The Daily Logo\" class=\"\" src=\"https://static01.nyt.com/images/2017/01/29/podcasts/the-daily-album-art/the-daily-album-art-mediumSquare149-v3.jpg?quality=75&amp;auto=webp&amp;disable=upscale\"/>,\n",
       " <img alt=\"The Run-Up Logo\" class=\"css-hqhlyo\" src=\"https://static01.nyt.com/images/2022/08/29/podcasts/the-run-up-album-art/the-run-up-album-art-thumbLarge.jpg?quality=75&amp;auto=webp&amp;disable=upscale\"/>,\n",
       " <img alt=\"Morning Briefing: Europe Logo\" class=\"\" src=\"/vi-assets/static-assets/icon-europe-morning-briefing_144x144-f0a330cb12ba0c31f81f13e25f6d0d18.webp\"/>,\n",
       " <img alt=\"The Interpreter Logo\" class=\"\" src=\"/vi-assets/static-assets/icon-the-interpreter_144x144-b29b74b2ebedb8e74823f33b16fb8167.webp\"/>,\n",
       " <img alt=\"Your Places: Global Update Logo\" class=\"\" src=\"/vi-assets/static-assets/icon-yourplaces-globalupdate_144x144-c25aba1c2904f301a08ad33183f723c6.webp\"/>,\n",
       " <img alt=\"Canada Letter Logo\" class=\"\" src=\"/vi-assets/static-assets/icon-canada-letter_144x144-65d899377edbcce9773d31fd03a77e8d.webp\"/>,\n",
       " <img alt=\"DealBook Logo\" class=\"\" src=\"/vi-assets/static-assets/icon-dealbook_144x144-28e8f71aafff426804c3a92b1b176e07.webp\"/>,\n",
       " <img alt=\"Hard Fork Logo\" class=\"\" src=\"https://static01.nyt.com/images/2022/09/28/podcasts/hard-fork-album-art/hard-fork-album-art-mediumSquare149-v2.png?quality=75&amp;auto=webp&amp;disable=upscale\"/>,\n",
       " <img alt=\"Read Like the Wind Logo\" class=\"\" src=\"/vi-assets/static-assets/icon-read-like-the-wind_144x144-5bcf9faf41d0b49df1df29e59a868b36.webp\"/>,\n",
       " <img alt=\"Watching Logo\" class=\"\" src=\"/vi-assets/static-assets/icon-watching_144x144-631a1da177f9fda1a7f4614ad8e607bd.webp\"/>,\n",
       " <img alt=\"Book Review Logo\" class=\"\" src=\"https://static01.nyt.com/images/2018/03/27/books/book-review-album-art-v2/book-review-album-art-v2-thumbLarge-v3.jpg?quality=75&amp;auto=webp&amp;disable=upscale\"/>,\n",
       " <img alt=\"Popcast Logo\" class=\"\" src=\"https://static01.nyt.com/images/2011/05/20/multimedia/music-popcast/music-popcast-thumbLarge-v3.jpg?quality=75&amp;auto=webp&amp;disable=upscale\"/>,\n",
       " <img alt=\"Open Thread Logo\" class=\"\" src=\"/vi-assets/static-assets/icon-open-thread-fashion_144x144-8e1b4b3fd68c2f333faa63097da2249b.webp\"/>,\n",
       " <img alt=\"Well Logo\" class=\"\" src=\"/vi-assets/static-assets/icon-well_144x144-433c9d15dc985dded9b705942592c6fb.webp\"/>,\n",
       " <img alt=\"Modern Love Logo\" class=\"\" src=\"https://static01.nyt.com/images/2020/09/21/podcasts/modernlove-logo/modernlove-logo-thumbLarge-v3.jpg?quality=75&amp;auto=webp&amp;disable=upscale\"/>,\n",
       " <img alt=\"Matter of Opinion Logo\" class=\"\" src=\"https://static01.nyt.com/images/2023/05/08/podcasts/matter-of-opinion-album-art/matter-of-opinion-album-art-thumbLarge-v2.jpg?quality=75&amp;auto=webp&amp;disable=upscale\"/>,\n",
       " <img alt=\"The Ezra Klein Show Logo\" class=\"\" src=\"https://static01.nyt.com/images/2023/04/05/podcasts/ezra-klein-album-art/ezra-klein-album-art-thumbLarge-v3.png\"/>,\n",
       " <img alt=\"The Interview Logo\" class=\"\" src=\"/vi-assets/static-assets/NYT-TheInterview-0232c6c95d42d77941fd3d8e5d2776cb.webp\"/>,\n",
       " <img alt=\"The Headlines Logo\" class=\"\" src=\"https://static01.nyt.com/images/2022/10/12/podcasts/headlines-albumartwork-audioapp-2/headlines-albumartwork-audioapp-2-thumbLarge.png?quality=75&amp;auto=webp&amp;disable=upscale\"/>,\n",
       " <img alt=\"Serial: The Good Whale Logo\" class=\"\" src=\"/vi-assets/static-assets/TheGoodWhale_144x144-f0eb13463973a1da8814328998990640.webp\"/>,\n",
       " <img alt=\"Audio Logo\" class=\"\" src=\"/vi-assets/static-assets/icon-audio_144x144-dc00c6581be29065cbd19ec7a83a3767.webp\"/>,\n",
       " <img alt=\"Gameplay Logo\" class=\"\" src=\"/vi-assets/static-assets/icon-gameplay_144x144-b6cc5e2a7cc27a43096274a02921329c.webp\"/>,\n",
       " <img alt=\"Easy Mode Logo\" class=\"\" src=\"/vi-assets/static-assets/icon-games-easymode_144x144-307b8f657d987516abff44220313daae.webp\"/>,\n",
       " <img alt=\"The Cooking Newsletter Logo\" class=\"\" src=\"/vi-assets/static-assets/icon-cooking_144x144-5a8be1ef711d4ba5e66b0be7a2ca8bfe.webp\"/>,\n",
       " <img alt=\"The Veggie Logo\" class=\"\" src=\"/vi-assets/static-assets/icon-the-veggie_144x144-f99606e1ca100f88cdfd8d763bf442c5.webp\"/>,\n",
       " <img alt=\"Five Weeknight Dishes Logo\" class=\"\" src=\"/vi-assets/static-assets/icon-five-weeknight-dishes_144x144-97d51c5d4ba98233667b4057e3d852ab.webp\"/>,\n",
       " <img alt=\"The Recommendation Logo\" class=\"\" src=\"/vi-assets/static-assets/icon-the-recommendation_144x144-3e66bd6cc82013bd511c31a8f04d4ff7.webp\"/>,\n",
       " <img alt=\"Clean Everything Logo\" class=\"\" src=\"/vi-assets/static-assets/icon-clean-everything_144x144-97312e349d7284039a2153cb541b7fda.webp\"/>,\n",
       " <img alt=\"The Pulse Logo\" class=\"\" src=\"/vi-assets/static-assets/icon-athletic-pulse_144x144-393cbda91e2678278456723b62a9b21f.webp\"/>,\n",
       " <img alt=\"Scoop City Logo\" class=\"\" src=\"/vi-assets/static-assets/icon-athletic-scoop-city_144x144-131bb9a92c77857aa6cac44772a74a77.webp\"/>,\n",
       " <img alt=\"The Windup Logo\" class=\"\" src=\"/vi-assets/static-assets/icon-athletic-windup_144x144-c03f2bf7ebd88f1c239ba4a6b2228679.webp\"/>,\n",
       " <img alt=\"The Athletic FC Logo\" class=\"\" src=\"/vi-assets/static-assets/icon-athletic-fc_144x144-a673fb497a7a58fd0a80b3d007b73b2f.webp\"/>,\n",
       " <img alt=\"The Morning Logo\" class=\"\" src=\"/vi-assets/static-assets/icon-the-morning_144x144-b12a6923b6ad9102b766352261b1a847.webp\"/>,\n",
       " <img alt=\"The Upshot Logo\" class=\"\" src=\"/vi-assets/static-assets/icon-the-upshot_144x144-0b1553ff703bbd07ac8fe73e6d215888.webp\"/>,\n",
       " <img alt=\"The Daily Logo\" class=\"\" src=\"https://static01.nyt.com/images/2017/01/29/podcasts/the-daily-album-art/the-daily-album-art-mediumSquare149-v3.jpg?quality=75&amp;auto=webp&amp;disable=upscale\"/>,\n",
       " <img alt=\"The Run-Up Logo\" class=\"css-hqhlyo\" src=\"https://static01.nyt.com/images/2022/08/29/podcasts/the-run-up-album-art/the-run-up-album-art-thumbLarge.jpg?quality=75&amp;auto=webp&amp;disable=upscale\"/>,\n",
       " <img alt=\"Morning Briefing: Europe Logo\" class=\"\" src=\"/vi-assets/static-assets/icon-europe-morning-briefing_144x144-f0a330cb12ba0c31f81f13e25f6d0d18.webp\"/>,\n",
       " <img alt=\"The Interpreter Logo\" class=\"\" src=\"/vi-assets/static-assets/icon-the-interpreter_144x144-b29b74b2ebedb8e74823f33b16fb8167.webp\"/>,\n",
       " <img alt=\"Your Places: Global Update Logo\" class=\"\" src=\"/vi-assets/static-assets/icon-yourplaces-globalupdate_144x144-c25aba1c2904f301a08ad33183f723c6.webp\"/>,\n",
       " <img alt=\"Canada Letter Logo\" class=\"\" src=\"/vi-assets/static-assets/icon-canada-letter_144x144-65d899377edbcce9773d31fd03a77e8d.webp\"/>,\n",
       " <img alt=\"DealBook Logo\" class=\"\" src=\"/vi-assets/static-assets/icon-dealbook_144x144-28e8f71aafff426804c3a92b1b176e07.webp\"/>,\n",
       " <img alt=\"Hard Fork Logo\" class=\"\" src=\"https://static01.nyt.com/images/2022/09/28/podcasts/hard-fork-album-art/hard-fork-album-art-mediumSquare149-v2.png?quality=75&amp;auto=webp&amp;disable=upscale\"/>,\n",
       " <img alt=\"Read Like the Wind Logo\" class=\"\" src=\"/vi-assets/static-assets/icon-read-like-the-wind_144x144-5bcf9faf41d0b49df1df29e59a868b36.webp\"/>,\n",
       " <img alt=\"Watching Logo\" class=\"\" src=\"/vi-assets/static-assets/icon-watching_144x144-631a1da177f9fda1a7f4614ad8e607bd.webp\"/>,\n",
       " <img alt=\"Book Review Logo\" class=\"\" src=\"https://static01.nyt.com/images/2018/03/27/books/book-review-album-art-v2/book-review-album-art-v2-thumbLarge-v3.jpg?quality=75&amp;auto=webp&amp;disable=upscale\"/>,\n",
       " <img alt=\"Popcast Logo\" class=\"\" src=\"https://static01.nyt.com/images/2011/05/20/multimedia/music-popcast/music-popcast-thumbLarge-v3.jpg?quality=75&amp;auto=webp&amp;disable=upscale\"/>,\n",
       " <img alt=\"Open Thread Logo\" class=\"\" src=\"/vi-assets/static-assets/icon-open-thread-fashion_144x144-8e1b4b3fd68c2f333faa63097da2249b.webp\"/>,\n",
       " <img alt=\"Well Logo\" class=\"\" src=\"/vi-assets/static-assets/icon-well_144x144-433c9d15dc985dded9b705942592c6fb.webp\"/>,\n",
       " <img alt=\"Modern Love Logo\" class=\"\" src=\"https://static01.nyt.com/images/2020/09/21/podcasts/modernlove-logo/modernlove-logo-thumbLarge-v3.jpg?quality=75&amp;auto=webp&amp;disable=upscale\"/>,\n",
       " <img alt=\"Matter of Opinion Logo\" class=\"\" src=\"https://static01.nyt.com/images/2023/05/08/podcasts/matter-of-opinion-album-art/matter-of-opinion-album-art-thumbLarge-v2.jpg?quality=75&amp;auto=webp&amp;disable=upscale\"/>,\n",
       " <img alt=\"The Ezra Klein Show Logo\" class=\"\" src=\"https://static01.nyt.com/images/2023/04/05/podcasts/ezra-klein-album-art/ezra-klein-album-art-thumbLarge-v3.png\"/>,\n",
       " <img alt=\"The Interview Logo\" class=\"\" src=\"/vi-assets/static-assets/NYT-TheInterview-0232c6c95d42d77941fd3d8e5d2776cb.webp\"/>,\n",
       " <img alt=\"The Headlines Logo\" class=\"\" src=\"https://static01.nyt.com/images/2022/10/12/podcasts/headlines-albumartwork-audioapp-2/headlines-albumartwork-audioapp-2-thumbLarge.png?quality=75&amp;auto=webp&amp;disable=upscale\"/>,\n",
       " <img alt=\"Serial: The Good Whale Logo\" class=\"\" src=\"/vi-assets/static-assets/TheGoodWhale_144x144-f0eb13463973a1da8814328998990640.webp\"/>,\n",
       " <img alt=\"Audio Logo\" class=\"\" src=\"/vi-assets/static-assets/icon-audio_144x144-dc00c6581be29065cbd19ec7a83a3767.webp\"/>,\n",
       " <img alt=\"Gameplay Logo\" class=\"\" src=\"/vi-assets/static-assets/icon-gameplay_144x144-b6cc5e2a7cc27a43096274a02921329c.webp\"/>,\n",
       " <img alt=\"Easy Mode Logo\" class=\"\" src=\"/vi-assets/static-assets/icon-games-easymode_144x144-307b8f657d987516abff44220313daae.webp\"/>,\n",
       " <img alt=\"The Cooking Newsletter Logo\" class=\"\" src=\"/vi-assets/static-assets/icon-cooking_144x144-5a8be1ef711d4ba5e66b0be7a2ca8bfe.webp\"/>,\n",
       " <img alt=\"The Veggie Logo\" class=\"\" src=\"/vi-assets/static-assets/icon-the-veggie_144x144-f99606e1ca100f88cdfd8d763bf442c5.webp\"/>,\n",
       " <img alt=\"Five Weeknight Dishes Logo\" class=\"\" src=\"/vi-assets/static-assets/icon-five-weeknight-dishes_144x144-97d51c5d4ba98233667b4057e3d852ab.webp\"/>,\n",
       " <img alt=\"The Recommendation Logo\" class=\"\" src=\"/vi-assets/static-assets/icon-the-recommendation_144x144-3e66bd6cc82013bd511c31a8f04d4ff7.webp\"/>,\n",
       " <img alt=\"Clean Everything Logo\" class=\"\" src=\"/vi-assets/static-assets/icon-clean-everything_144x144-97312e349d7284039a2153cb541b7fda.webp\"/>,\n",
       " <img alt=\"The Pulse Logo\" class=\"\" src=\"/vi-assets/static-assets/icon-athletic-pulse_144x144-393cbda91e2678278456723b62a9b21f.webp\"/>,\n",
       " <img alt=\"Scoop City Logo\" class=\"\" src=\"/vi-assets/static-assets/icon-athletic-scoop-city_144x144-131bb9a92c77857aa6cac44772a74a77.webp\"/>,\n",
       " <img alt=\"The Windup Logo\" class=\"\" src=\"/vi-assets/static-assets/icon-athletic-windup_144x144-c03f2bf7ebd88f1c239ba4a6b2228679.webp\"/>,\n",
       " <img alt=\"The Athletic FC Logo\" class=\"\" src=\"/vi-assets/static-assets/icon-athletic-fc_144x144-a673fb497a7a58fd0a80b3d007b73b2f.webp\"/>,\n",
       " <img alt=\"Donald Trump Jr. raises his right hand while speaking at a lectern that bears a “Trump Vance” sign.\" class=\"css-dzl7b5\" loading=\"lazy\"/>,\n",
       " <img alt=\"Donald Trump Jr. raises his right hand while speaking at a lectern that bears a “Trump Vance” sign.\" class=\"css-122y91a\" src=\"https://static01.nyt.com/images/2024/11/26/multimedia/26DC-TRUMPJR-TOP-qhkb/26DC-TRUMPJR-TOP-qhkb-threeByTwoMediumAt2X.jpg?format=pjpg&amp;quality=75&amp;auto=webp&amp;disable=upscale\"/>,\n",
       " <img alt=\"John Fetterman in a plum-colored short-sleeved shirt and standing in a hallway. A gold-plated elevator is visible behind him.\" class=\"css-dzl7b5\" loading=\"lazy\"/>,\n",
       " <img alt=\"John Fetterman in a plum-colored short-sleeved shirt and standing in a hallway. A gold-plated elevator is visible behind him.\" class=\"css-122y91a\" src=\"https://static01.nyt.com/images/2024/11/27/multimedia/27-pol-on-politics-topitem-qpkg/27-pol-on-politics-topitem-qpkg-smallSquare252.jpg?format=pjpg&amp;quality=75&amp;auto=webp&amp;disable=upscale\"/>,\n",
       " <img alt=\"President Claudia Sheinbaum of Mexico, sitting at a table and wearing earphones. A small Mexican flag is in front of her.\" class=\"css-dzl7b5\" loading=\"lazy\"/>,\n",
       " <img alt=\"President Claudia Sheinbaum of Mexico, sitting at a table and wearing earphones. A small Mexican flag is in front of her.\" class=\"css-122y91a\" src=\"https://static01.nyt.com/images/2024/11/27/multimedia/27trump-news-mexico-sheinbaum1-ptvb/27trump-news-mexico-sheinbaum1-ptvb-smallSquare252-v3.jpg?format=pjpg&amp;quality=75&amp;auto=webp&amp;disable=upscale\"/>,\n",
       " <img alt=\"\" class=\"css-dzl7b5\" loading=\"lazy\"/>,\n",
       " <img alt=\"\" class=\"css-122y91a\" src=\"https://static01.nyt.com/images/2024/12/27/multimedia/27NAT-TEXAS-BORDER-promo-ctwg/27NAT-TEXAS-BORDER-promo-ctwg-smallSquare252-v3.jpg?format=pjpg&amp;quality=75&amp;auto=webp&amp;disable=upscale\"/>,\n",
       " <img alt=\"\" class=\"css-jox6xh e1hd6kzw0\" height=\"1102\" src=\"https://static01.nyt.com/images/2024/11/27/multimedia/Thanksgiving-Balloons-Tapper-02-vtkl/Thanksgiving-Balloons-Tapper-02-vtkl-verticalTwoByThree735.jpg\" width=\"735\"/>,\n",
       " <img alt=\"Graham Dickie\" class=\"css-dc6zx6 ey68jwv2\" src=\"https://static01.nyt.com/images/icons/t_logo_150_black.png\" title=\"Graham Dickie\"/>,\n",
       " <img alt=\"\" class=\"css-jox6xh e1hd6kzw0\" height=\"1102\" src=\"https://static01.nyt.com/images/2024/11/27/multimedia/Thanksgiving-Balloons-Tapper-06-vtkl/Thanksgiving-Balloons-Tapper-06-vtkl-verticalTwoByThree735.jpg\" width=\"735\"/>,\n",
       " <img alt=\"\" class=\"css-jox6xh e1hd6kzw0\" height=\"1102\" src=\"https://static01.nyt.com/images/2024/11/27/multimedia/Thanksgiving-Balloons-Tapper-07-vtkl/Thanksgiving-Balloons-Tapper-07-vtkl-verticalTwoByThree735.jpg\" width=\"735\"/>,\n",
       " <img alt=\"\" class=\"css-jox6xh e1hd6kzw0\" height=\"1102\" src=\"https://static01.nyt.com/images/2024/11/27/multimedia/Thanksgiving-Balloons-Tapper-01-qzjc/Thanksgiving-Balloons-Tapper-01-qzjc-verticalTwoByThree735.jpg\" width=\"735\"/>,\n",
       " <img alt=\"\" class=\"css-jox6xh e1hd6kzw0\" height=\"1102\" src=\"https://static01.nyt.com/images/2024/11/27/multimedia/Thanksgiving-Balloons-Tapper-tfjl/Thanksgiving-Balloons-Tapper-tfjl-verticalTwoByThree735.jpg\" width=\"735\"/>,\n",
       " <img alt=\"\" class=\"css-jox6xh e1hd6kzw0\" height=\"1102\" src=\"https://static01.nyt.com/images/2024/11/27/multimedia/Thanksgiving-Balloons-Tapper-kvpw/Thanksgiving-Balloons-Tapper-kvpw-verticalTwoByThree735.jpg\" width=\"735\"/>,\n",
       " <img alt=\"\" class=\"css-jox6xh e1hd6kzw0\" height=\"1102\" src=\"https://static01.nyt.com/images/2024/11/27/multimedia/Thanksgiving-Balloons-Tapper-05-vtkl/Thanksgiving-Balloons-Tapper-05-vtkl-verticalTwoByThree735.jpg\" width=\"735\"/>,\n",
       " <img alt=\"A black-and-white photo of men in overhauls pulling produce along a long hall with a soaring ceiling and lamps hanging in a row overhead.\" class=\"css-dzl7b5\" loading=\"lazy\"/>,\n",
       " <img alt=\"A black-and-white photo of men in overhauls pulling produce along a long hall with a soaring ceiling and lamps hanging in a row overhead.\" class=\"css-122y91a\" src=\"https://static01.nyt.com/images/2024/11/27/multimedia/27uk-smithfield-03-vfbw-homepage/27uk-smithfield-03-vfbw-homepage-threeByTwoMediumAt2X.jpg?format=pjpg&amp;quality=75&amp;auto=webp&amp;disable=upscale\"/>,\n",
       " <img alt=\"People sitting on and around an escalator.\" class=\"css-dzl7b5\" loading=\"lazy\"/>,\n",
       " <img alt=\"People sitting on and around an escalator.\" class=\"css-122y91a\" src=\"https://static01.nyt.com/images/2024/11/28/multimedia/28ukraine-strikes-1-cmlb/28ukraine-strikes-1-cmlb-threeByTwoMediumAt2X.jpg?format=pjpg&amp;quality=75&amp;auto=webp&amp;disable=upscale\"/>,\n",
       " <img alt=\"\" class=\"css-dzl7b5\" loading=\"lazy\"/>,\n",
       " <img alt=\"\" class=\"css-122y91a\" src=\"https://static01.nyt.com/images/2024/11/18/multimedia/00india-exams-01-wplz/00india-exams-01-wplz-threeByTwoMediumAt2X.jpg?format=pjpg&amp;quality=75&amp;auto=webp&amp;disable=upscale\"/>,\n",
       " <img alt=\"A colonial-style house behind trees and shrubbery.\" class=\"css-dzl7b5\" loading=\"lazy\"/>,\n",
       " <img alt=\"A colonial-style house behind trees and shrubbery.\" class=\"css-122y91a\" src=\"https://static01.nyt.com/images/2024/11/26/multimedia/26kenburns-newhampshirehome-alt1-lbkm/26kenburns-newhampshirehome-alt1-lbkm-threeByTwoMediumAt2X.jpg?format=pjpg&amp;quality=75&amp;auto=webp&amp;disable=upscale\"/>,\n",
       " <img alt=\"\" class=\"slideshow-animate css-3kzcvh\" loading=\"lazy\"/>,\n",
       " <img alt=\"\" class=\"css-122y91a\" src=\"https://static01.nyt.com/images/2024/11/28/multimedia/28nat-big-turkey-hp-fader-01-wzkc/28nat-big-turkey-hp-fader-01-wzkc-threeByTwoMediumAt2X.jpg?format=pjpg&amp;quality=75&amp;auto=webp&amp;disable=upscale\"/>,\n",
       " <img alt=\"\" class=\"slideshow-animate css-3kzcvh\" loading=\"lazy\"/>,\n",
       " <img alt=\"\" class=\"css-122y91a\" src=\"https://static01.nyt.com/images/2024/11/28/multimedia/28nat-big-turkey-hp-fader-02-wzkc/28nat-big-turkey-hp-fader-02-wzkc-threeByTwoMediumAt2X.jpg?format=pjpg&amp;quality=75&amp;auto=webp&amp;disable=upscale\"/>,\n",
       " <img alt=\"\" class=\"slideshow-animate css-3kzcvh\" loading=\"lazy\"/>,\n",
       " <img alt=\"\" class=\"css-122y91a\" src=\"https://static01.nyt.com/images/2024/11/28/multimedia/28nat-big-turkey-hp-fader-03-wzkc/28nat-big-turkey-hp-fader-03-wzkc-threeByTwoMediumAt2X.jpg?format=pjpg&amp;quality=75&amp;auto=webp&amp;disable=upscale\"/>,\n",
       " <img alt=\"\" class=\"slideshow-animate css-3kzcvh\" loading=\"lazy\"/>,\n",
       " <img alt=\"\" class=\"css-122y91a\" src=\"https://static01.nyt.com/images/2024/11/28/multimedia/28nat-big-turkey-hp-fader-04-wzkc/28nat-big-turkey-hp-fader-04-wzkc-threeByTwoMediumAt2X.jpg?format=pjpg&amp;quality=75&amp;auto=webp&amp;disable=upscale\"/>,\n",
       " <img alt=\"\" class=\"slideshow-animate css-3kzcvh\" loading=\"lazy\"/>,\n",
       " <img alt=\"\" class=\"css-122y91a\" src=\"https://static01.nyt.com/images/2024/11/28/multimedia/28nat-big-turkey-hp-fader-05-wzkc/28nat-big-turkey-hp-fader-05-wzkc-threeByTwoMediumAt2X.jpg?format=pjpg&amp;quality=75&amp;auto=webp&amp;disable=upscale\"/>,\n",
       " <img alt=\"\" class=\"slideshow-animate css-3kzcvh\" loading=\"lazy\"/>,\n",
       " <img alt=\"\" class=\"css-122y91a\" src=\"https://static01.nyt.com/images/2024/11/28/multimedia/28nat-big-turkey-hp-fader-06-wzkc/28nat-big-turkey-hp-fader-06-wzkc-threeByTwoMediumAt2X.jpg?format=pjpg&amp;quality=75&amp;auto=webp&amp;disable=upscale\"/>,\n",
       " <img alt=\"Maureen Dowd\" class=\"css-1ii2lp6\" loading=\"lazy\"/>,\n",
       " <img alt=\"Maureen Dowd\" class=\"css-122y91a\" src=\"https://static01.nyt.com/images/2018/04/02/opinion/maureen-dowd/maureen-dowd-thumbLarge.png?format=pjpg&amp;quality=75&amp;auto=webp&amp;disable=upscale\"/>,\n",
       " <img alt=\"Donald Trump, onstage and in a navy suit with a red tie, dances with his arms in the air.\" class=\"css-dzl7b5\" loading=\"lazy\"/>,\n",
       " <img alt=\"Donald Trump, onstage and in a navy suit with a red tie, dances with his arms in the air.\" class=\"css-122y91a\" src=\"https://static01.nyt.com/images/2024/11/28/multimedia/28dowd-hgzl/28dowd-hgzl-threeByTwoMediumAt2X.jpg?format=pjpg&amp;quality=75&amp;auto=webp&amp;disable=upscale\"/>,\n",
       " <img alt=\"Daniela J. Lamas\" class=\"css-1ii2lp6\" loading=\"lazy\"/>,\n",
       " <img alt=\"Daniela J. Lamas\" class=\"css-122y91a\" src=\"https://static01.nyt.com/images/2021/04/23/opinion/daniela-lamas/daniela-lamas-thumbLarge.png?format=pjpg&amp;quality=75&amp;auto=webp&amp;disable=upscale\"/>,\n",
       " <img alt=\"Pamela Paul\" class=\"css-1ii2lp6\" loading=\"lazy\"/>,\n",
       " <img alt=\"Pamela Paul\" class=\"css-122y91a\" src=\"https://static01.nyt.com/images/2022/07/12/opinion/pamela-paul-new/pamela-paul-new-thumbLarge-v2.png?format=pjpg&amp;quality=75&amp;auto=webp&amp;disable=upscale\"/>,\n",
       " <img alt=\"A headdress with red, white and black feathers and beads.\" class=\"css-dzl7b5\" loading=\"lazy\"/>,\n",
       " <img alt=\"A headdress with red, white and black feathers and beads.\" class=\"css-122y91a\" src=\"https://static01.nyt.com/images/2024/11/26/multimedia/00spotted-tail-01-hkpv/00spotted-tail-01-hkpv-threeByTwoMediumAt2X.jpg?format=pjpg&amp;quality=75&amp;auto=webp&amp;disable=upscale\"/>,\n",
       " <img alt=\"\" class=\"css-dzl7b5\" loading=\"lazy\"/>,\n",
       " <img alt=\"\" class=\"css-122y91a\" src=\"https://static01.nyt.com/images/2024/11/27/multimedia/27PROJECTIONIST-DEADWYLER-02-bktq/27PROJECTIONIST-DEADWYLER-02-bktq-threeByTwoMediumAt2X.jpg?format=pjpg&amp;quality=75&amp;auto=webp&amp;disable=upscale\"/>,\n",
       " <img alt=\"\" class=\"css-dzl7b5\" loading=\"lazy\"/>,\n",
       " <img alt=\"\" class=\"css-122y91a\" src=\"https://static01.nyt.com/images/2022/03/02/crosswords/alpha-wordle-icon-new/alpha-wordle-icon-new-smallSquare252-v3.png?format=pjpg&amp;quality=75&amp;auto=webp&amp;disable=upscale\"/>,\n",
       " <img alt=\"\" class=\"css-dzl7b5\" loading=\"lazy\"/>,\n",
       " <img alt=\"\" class=\"css-122y91a\" src=\"https://static01.nyt.com/images/2023/08/25/crosswords/alpha-connections-icon-original/alpha-connections-icon-original-smallSquare252.png?format=pjpg&amp;quality=75&amp;auto=webp&amp;disable=upscale\"/>,\n",
       " <img alt=\"\" class=\"css-dzl7b5\" loading=\"lazy\"/>,\n",
       " <img alt=\"\" class=\"css-122y91a\" src=\"https://static01.nyt.com/images/2024/01/16/crosswords/alpha-strands-icon/alpha-strands-icon-smallSquare252.png?format=pjpg&amp;quality=75&amp;auto=webp&amp;disable=upscale\"/>,\n",
       " <img alt=\"\" class=\"css-dzl7b5\" loading=\"lazy\"/>,\n",
       " <img alt=\"\" class=\"css-122y91a\" src=\"https://static01.nyt.com/images/2020/03/23/crosswords/spelling-bee-logo-nytgames-hi-res/spelling-bee-logo-nytgames-hi-res-smallSquare252-v4.png?format=pjpg&amp;quality=75&amp;auto=webp&amp;disable=upscale\"/>,\n",
       " <img alt=\"\" class=\"css-dzl7b5\" loading=\"lazy\"/>,\n",
       " <img alt=\"\" class=\"css-122y91a\" src=\"https://static01.nyt.com/images/2020/03/23/crosswords/crossword-logo-nytgames-hires/crossword-logo-nytgames-hires-smallSquare252-v3.png?format=pjpg&amp;quality=75&amp;auto=webp&amp;disable=upscale\"/>,\n",
       " <img alt=\"\" class=\"css-dzl7b5\" loading=\"lazy\"/>,\n",
       " <img alt=\"\" class=\"css-122y91a\" src=\"https://static01.nyt.com/images/2021/03/23/multimedia/alpha-mini-promo-1616527576800/alpha-mini-promo-1616527576800-smallSquare252-v4.png?format=pjpg&amp;quality=75&amp;auto=webp&amp;disable=upscale\"/>]"
      ]
     },
     "execution_count": 3,
     "metadata": {},
     "output_type": "execute_result"
    }
   ],
   "source": [
    "document.find_all('img')"
   ]
  },
  {
   "cell_type": "markdown",
   "metadata": {},
   "source": [
    "To display these images in our Jupyter notebook, we're going to import the Python modules `Markdown` and `display`, which allow us to transform code output into Markdown and thus display the images in this notebook"
   ]
  },
  {
   "cell_type": "code",
   "execution_count": 4,
   "metadata": {
    "scrolled": true
   },
   "outputs": [
    {
     "data": {
      "text/markdown": [
       "<img alt=\"The Morning Logo\" class=\"\" src=\"/vi-assets/static-assets/icon-the-morning_144x144-b12a6923b6ad9102b766352261b1a847.webp\"/>"
      ],
      "text/plain": [
       "<IPython.core.display.Markdown object>"
      ]
     },
     "metadata": {},
     "output_type": "display_data"
    },
    {
     "data": {
      "text/markdown": [
       "<img alt=\"The Upshot Logo\" class=\"\" src=\"/vi-assets/static-assets/icon-the-upshot_144x144-0b1553ff703bbd07ac8fe73e6d215888.webp\"/>"
      ],
      "text/plain": [
       "<IPython.core.display.Markdown object>"
      ]
     },
     "metadata": {},
     "output_type": "display_data"
    },
    {
     "data": {
      "text/markdown": [
       "<img alt=\"The Daily Logo\" class=\"\" src=\"https://static01.nyt.com/images/2017/01/29/podcasts/the-daily-album-art/the-daily-album-art-mediumSquare149-v3.jpg?quality=75&amp;auto=webp&amp;disable=upscale\"/>"
      ],
      "text/plain": [
       "<IPython.core.display.Markdown object>"
      ]
     },
     "metadata": {},
     "output_type": "display_data"
    },
    {
     "data": {
      "text/markdown": [
       "<img alt=\"The Run-Up Logo\" class=\"css-hqhlyo\" src=\"https://static01.nyt.com/images/2022/08/29/podcasts/the-run-up-album-art/the-run-up-album-art-thumbLarge.jpg?quality=75&amp;auto=webp&amp;disable=upscale\"/>"
      ],
      "text/plain": [
       "<IPython.core.display.Markdown object>"
      ]
     },
     "metadata": {},
     "output_type": "display_data"
    },
    {
     "data": {
      "text/markdown": [
       "<img alt=\"Morning Briefing: Europe Logo\" class=\"\" src=\"/vi-assets/static-assets/icon-europe-morning-briefing_144x144-f0a330cb12ba0c31f81f13e25f6d0d18.webp\"/>"
      ],
      "text/plain": [
       "<IPython.core.display.Markdown object>"
      ]
     },
     "metadata": {},
     "output_type": "display_data"
    },
    {
     "data": {
      "text/markdown": [
       "<img alt=\"The Interpreter Logo\" class=\"\" src=\"/vi-assets/static-assets/icon-the-interpreter_144x144-b29b74b2ebedb8e74823f33b16fb8167.webp\"/>"
      ],
      "text/plain": [
       "<IPython.core.display.Markdown object>"
      ]
     },
     "metadata": {},
     "output_type": "display_data"
    },
    {
     "data": {
      "text/markdown": [
       "<img alt=\"Your Places: Global Update Logo\" class=\"\" src=\"/vi-assets/static-assets/icon-yourplaces-globalupdate_144x144-c25aba1c2904f301a08ad33183f723c6.webp\"/>"
      ],
      "text/plain": [
       "<IPython.core.display.Markdown object>"
      ]
     },
     "metadata": {},
     "output_type": "display_data"
    },
    {
     "data": {
      "text/markdown": [
       "<img alt=\"Canada Letter Logo\" class=\"\" src=\"/vi-assets/static-assets/icon-canada-letter_144x144-65d899377edbcce9773d31fd03a77e8d.webp\"/>"
      ],
      "text/plain": [
       "<IPython.core.display.Markdown object>"
      ]
     },
     "metadata": {},
     "output_type": "display_data"
    },
    {
     "data": {
      "text/markdown": [
       "<img alt=\"DealBook Logo\" class=\"\" src=\"/vi-assets/static-assets/icon-dealbook_144x144-28e8f71aafff426804c3a92b1b176e07.webp\"/>"
      ],
      "text/plain": [
       "<IPython.core.display.Markdown object>"
      ]
     },
     "metadata": {},
     "output_type": "display_data"
    },
    {
     "data": {
      "text/markdown": [
       "<img alt=\"Hard Fork Logo\" class=\"\" src=\"https://static01.nyt.com/images/2022/09/28/podcasts/hard-fork-album-art/hard-fork-album-art-mediumSquare149-v2.png?quality=75&amp;auto=webp&amp;disable=upscale\"/>"
      ],
      "text/plain": [
       "<IPython.core.display.Markdown object>"
      ]
     },
     "metadata": {},
     "output_type": "display_data"
    },
    {
     "data": {
      "text/markdown": [
       "<img alt=\"Read Like the Wind Logo\" class=\"\" src=\"/vi-assets/static-assets/icon-read-like-the-wind_144x144-5bcf9faf41d0b49df1df29e59a868b36.webp\"/>"
      ],
      "text/plain": [
       "<IPython.core.display.Markdown object>"
      ]
     },
     "metadata": {},
     "output_type": "display_data"
    },
    {
     "data": {
      "text/markdown": [
       "<img alt=\"Watching Logo\" class=\"\" src=\"/vi-assets/static-assets/icon-watching_144x144-631a1da177f9fda1a7f4614ad8e607bd.webp\"/>"
      ],
      "text/plain": [
       "<IPython.core.display.Markdown object>"
      ]
     },
     "metadata": {},
     "output_type": "display_data"
    },
    {
     "data": {
      "text/markdown": [
       "<img alt=\"Book Review Logo\" class=\"\" src=\"https://static01.nyt.com/images/2018/03/27/books/book-review-album-art-v2/book-review-album-art-v2-thumbLarge-v3.jpg?quality=75&amp;auto=webp&amp;disable=upscale\"/>"
      ],
      "text/plain": [
       "<IPython.core.display.Markdown object>"
      ]
     },
     "metadata": {},
     "output_type": "display_data"
    },
    {
     "data": {
      "text/markdown": [
       "<img alt=\"Popcast Logo\" class=\"\" src=\"https://static01.nyt.com/images/2011/05/20/multimedia/music-popcast/music-popcast-thumbLarge-v3.jpg?quality=75&amp;auto=webp&amp;disable=upscale\"/>"
      ],
      "text/plain": [
       "<IPython.core.display.Markdown object>"
      ]
     },
     "metadata": {},
     "output_type": "display_data"
    },
    {
     "data": {
      "text/markdown": [
       "<img alt=\"Open Thread Logo\" class=\"\" src=\"/vi-assets/static-assets/icon-open-thread-fashion_144x144-8e1b4b3fd68c2f333faa63097da2249b.webp\"/>"
      ],
      "text/plain": [
       "<IPython.core.display.Markdown object>"
      ]
     },
     "metadata": {},
     "output_type": "display_data"
    },
    {
     "data": {
      "text/markdown": [
       "<img alt=\"Well Logo\" class=\"\" src=\"/vi-assets/static-assets/icon-well_144x144-433c9d15dc985dded9b705942592c6fb.webp\"/>"
      ],
      "text/plain": [
       "<IPython.core.display.Markdown object>"
      ]
     },
     "metadata": {},
     "output_type": "display_data"
    },
    {
     "data": {
      "text/markdown": [
       "<img alt=\"Modern Love Logo\" class=\"\" src=\"https://static01.nyt.com/images/2020/09/21/podcasts/modernlove-logo/modernlove-logo-thumbLarge-v3.jpg?quality=75&amp;auto=webp&amp;disable=upscale\"/>"
      ],
      "text/plain": [
       "<IPython.core.display.Markdown object>"
      ]
     },
     "metadata": {},
     "output_type": "display_data"
    },
    {
     "data": {
      "text/markdown": [
       "<img alt=\"Matter of Opinion Logo\" class=\"\" src=\"https://static01.nyt.com/images/2023/05/08/podcasts/matter-of-opinion-album-art/matter-of-opinion-album-art-thumbLarge-v2.jpg?quality=75&amp;auto=webp&amp;disable=upscale\"/>"
      ],
      "text/plain": [
       "<IPython.core.display.Markdown object>"
      ]
     },
     "metadata": {},
     "output_type": "display_data"
    },
    {
     "data": {
      "text/markdown": [
       "<img alt=\"The Ezra Klein Show Logo\" class=\"\" src=\"https://static01.nyt.com/images/2023/04/05/podcasts/ezra-klein-album-art/ezra-klein-album-art-thumbLarge-v3.png\"/>"
      ],
      "text/plain": [
       "<IPython.core.display.Markdown object>"
      ]
     },
     "metadata": {},
     "output_type": "display_data"
    },
    {
     "data": {
      "text/markdown": [
       "<img alt=\"The Interview Logo\" class=\"\" src=\"/vi-assets/static-assets/NYT-TheInterview-0232c6c95d42d77941fd3d8e5d2776cb.webp\"/>"
      ],
      "text/plain": [
       "<IPython.core.display.Markdown object>"
      ]
     },
     "metadata": {},
     "output_type": "display_data"
    },
    {
     "data": {
      "text/markdown": [
       "<img alt=\"The Headlines Logo\" class=\"\" src=\"https://static01.nyt.com/images/2022/10/12/podcasts/headlines-albumartwork-audioapp-2/headlines-albumartwork-audioapp-2-thumbLarge.png?quality=75&amp;auto=webp&amp;disable=upscale\"/>"
      ],
      "text/plain": [
       "<IPython.core.display.Markdown object>"
      ]
     },
     "metadata": {},
     "output_type": "display_data"
    },
    {
     "data": {
      "text/markdown": [
       "<img alt=\"Serial: The Good Whale Logo\" class=\"\" src=\"/vi-assets/static-assets/TheGoodWhale_144x144-f0eb13463973a1da8814328998990640.webp\"/>"
      ],
      "text/plain": [
       "<IPython.core.display.Markdown object>"
      ]
     },
     "metadata": {},
     "output_type": "display_data"
    },
    {
     "data": {
      "text/markdown": [
       "<img alt=\"Audio Logo\" class=\"\" src=\"/vi-assets/static-assets/icon-audio_144x144-dc00c6581be29065cbd19ec7a83a3767.webp\"/>"
      ],
      "text/plain": [
       "<IPython.core.display.Markdown object>"
      ]
     },
     "metadata": {},
     "output_type": "display_data"
    },
    {
     "data": {
      "text/markdown": [
       "<img alt=\"Gameplay Logo\" class=\"\" src=\"/vi-assets/static-assets/icon-gameplay_144x144-b6cc5e2a7cc27a43096274a02921329c.webp\"/>"
      ],
      "text/plain": [
       "<IPython.core.display.Markdown object>"
      ]
     },
     "metadata": {},
     "output_type": "display_data"
    },
    {
     "data": {
      "text/markdown": [
       "<img alt=\"Easy Mode Logo\" class=\"\" src=\"/vi-assets/static-assets/icon-games-easymode_144x144-307b8f657d987516abff44220313daae.webp\"/>"
      ],
      "text/plain": [
       "<IPython.core.display.Markdown object>"
      ]
     },
     "metadata": {},
     "output_type": "display_data"
    },
    {
     "data": {
      "text/markdown": [
       "<img alt=\"The Cooking Newsletter Logo\" class=\"\" src=\"/vi-assets/static-assets/icon-cooking_144x144-5a8be1ef711d4ba5e66b0be7a2ca8bfe.webp\"/>"
      ],
      "text/plain": [
       "<IPython.core.display.Markdown object>"
      ]
     },
     "metadata": {},
     "output_type": "display_data"
    },
    {
     "data": {
      "text/markdown": [
       "<img alt=\"The Veggie Logo\" class=\"\" src=\"/vi-assets/static-assets/icon-the-veggie_144x144-f99606e1ca100f88cdfd8d763bf442c5.webp\"/>"
      ],
      "text/plain": [
       "<IPython.core.display.Markdown object>"
      ]
     },
     "metadata": {},
     "output_type": "display_data"
    },
    {
     "data": {
      "text/markdown": [
       "<img alt=\"Five Weeknight Dishes Logo\" class=\"\" src=\"/vi-assets/static-assets/icon-five-weeknight-dishes_144x144-97d51c5d4ba98233667b4057e3d852ab.webp\"/>"
      ],
      "text/plain": [
       "<IPython.core.display.Markdown object>"
      ]
     },
     "metadata": {},
     "output_type": "display_data"
    },
    {
     "data": {
      "text/markdown": [
       "<img alt=\"The Recommendation Logo\" class=\"\" src=\"/vi-assets/static-assets/icon-the-recommendation_144x144-3e66bd6cc82013bd511c31a8f04d4ff7.webp\"/>"
      ],
      "text/plain": [
       "<IPython.core.display.Markdown object>"
      ]
     },
     "metadata": {},
     "output_type": "display_data"
    },
    {
     "data": {
      "text/markdown": [
       "<img alt=\"Clean Everything Logo\" class=\"\" src=\"/vi-assets/static-assets/icon-clean-everything_144x144-97312e349d7284039a2153cb541b7fda.webp\"/>"
      ],
      "text/plain": [
       "<IPython.core.display.Markdown object>"
      ]
     },
     "metadata": {},
     "output_type": "display_data"
    },
    {
     "data": {
      "text/markdown": [
       "<img alt=\"The Pulse Logo\" class=\"\" src=\"/vi-assets/static-assets/icon-athletic-pulse_144x144-393cbda91e2678278456723b62a9b21f.webp\"/>"
      ],
      "text/plain": [
       "<IPython.core.display.Markdown object>"
      ]
     },
     "metadata": {},
     "output_type": "display_data"
    },
    {
     "data": {
      "text/markdown": [
       "<img alt=\"Scoop City Logo\" class=\"\" src=\"/vi-assets/static-assets/icon-athletic-scoop-city_144x144-131bb9a92c77857aa6cac44772a74a77.webp\"/>"
      ],
      "text/plain": [
       "<IPython.core.display.Markdown object>"
      ]
     },
     "metadata": {},
     "output_type": "display_data"
    },
    {
     "data": {
      "text/markdown": [
       "<img alt=\"The Windup Logo\" class=\"\" src=\"/vi-assets/static-assets/icon-athletic-windup_144x144-c03f2bf7ebd88f1c239ba4a6b2228679.webp\"/>"
      ],
      "text/plain": [
       "<IPython.core.display.Markdown object>"
      ]
     },
     "metadata": {},
     "output_type": "display_data"
    },
    {
     "data": {
      "text/markdown": [
       "<img alt=\"The Athletic FC Logo\" class=\"\" src=\"/vi-assets/static-assets/icon-athletic-fc_144x144-a673fb497a7a58fd0a80b3d007b73b2f.webp\"/>"
      ],
      "text/plain": [
       "<IPython.core.display.Markdown object>"
      ]
     },
     "metadata": {},
     "output_type": "display_data"
    },
    {
     "data": {
      "text/markdown": [
       "<img alt=\"The Morning Logo\" class=\"\" src=\"/vi-assets/static-assets/icon-the-morning_144x144-b12a6923b6ad9102b766352261b1a847.webp\"/>"
      ],
      "text/plain": [
       "<IPython.core.display.Markdown object>"
      ]
     },
     "metadata": {},
     "output_type": "display_data"
    },
    {
     "data": {
      "text/markdown": [
       "<img alt=\"The Upshot Logo\" class=\"\" src=\"/vi-assets/static-assets/icon-the-upshot_144x144-0b1553ff703bbd07ac8fe73e6d215888.webp\"/>"
      ],
      "text/plain": [
       "<IPython.core.display.Markdown object>"
      ]
     },
     "metadata": {},
     "output_type": "display_data"
    },
    {
     "data": {
      "text/markdown": [
       "<img alt=\"The Daily Logo\" class=\"\" src=\"https://static01.nyt.com/images/2017/01/29/podcasts/the-daily-album-art/the-daily-album-art-mediumSquare149-v3.jpg?quality=75&amp;auto=webp&amp;disable=upscale\"/>"
      ],
      "text/plain": [
       "<IPython.core.display.Markdown object>"
      ]
     },
     "metadata": {},
     "output_type": "display_data"
    },
    {
     "data": {
      "text/markdown": [
       "<img alt=\"The Run-Up Logo\" class=\"css-hqhlyo\" src=\"https://static01.nyt.com/images/2022/08/29/podcasts/the-run-up-album-art/the-run-up-album-art-thumbLarge.jpg?quality=75&amp;auto=webp&amp;disable=upscale\"/>"
      ],
      "text/plain": [
       "<IPython.core.display.Markdown object>"
      ]
     },
     "metadata": {},
     "output_type": "display_data"
    },
    {
     "data": {
      "text/markdown": [
       "<img alt=\"Morning Briefing: Europe Logo\" class=\"\" src=\"/vi-assets/static-assets/icon-europe-morning-briefing_144x144-f0a330cb12ba0c31f81f13e25f6d0d18.webp\"/>"
      ],
      "text/plain": [
       "<IPython.core.display.Markdown object>"
      ]
     },
     "metadata": {},
     "output_type": "display_data"
    },
    {
     "data": {
      "text/markdown": [
       "<img alt=\"The Interpreter Logo\" class=\"\" src=\"/vi-assets/static-assets/icon-the-interpreter_144x144-b29b74b2ebedb8e74823f33b16fb8167.webp\"/>"
      ],
      "text/plain": [
       "<IPython.core.display.Markdown object>"
      ]
     },
     "metadata": {},
     "output_type": "display_data"
    },
    {
     "data": {
      "text/markdown": [
       "<img alt=\"Your Places: Global Update Logo\" class=\"\" src=\"/vi-assets/static-assets/icon-yourplaces-globalupdate_144x144-c25aba1c2904f301a08ad33183f723c6.webp\"/>"
      ],
      "text/plain": [
       "<IPython.core.display.Markdown object>"
      ]
     },
     "metadata": {},
     "output_type": "display_data"
    },
    {
     "data": {
      "text/markdown": [
       "<img alt=\"Canada Letter Logo\" class=\"\" src=\"/vi-assets/static-assets/icon-canada-letter_144x144-65d899377edbcce9773d31fd03a77e8d.webp\"/>"
      ],
      "text/plain": [
       "<IPython.core.display.Markdown object>"
      ]
     },
     "metadata": {},
     "output_type": "display_data"
    },
    {
     "data": {
      "text/markdown": [
       "<img alt=\"DealBook Logo\" class=\"\" src=\"/vi-assets/static-assets/icon-dealbook_144x144-28e8f71aafff426804c3a92b1b176e07.webp\"/>"
      ],
      "text/plain": [
       "<IPython.core.display.Markdown object>"
      ]
     },
     "metadata": {},
     "output_type": "display_data"
    },
    {
     "data": {
      "text/markdown": [
       "<img alt=\"Hard Fork Logo\" class=\"\" src=\"https://static01.nyt.com/images/2022/09/28/podcasts/hard-fork-album-art/hard-fork-album-art-mediumSquare149-v2.png?quality=75&amp;auto=webp&amp;disable=upscale\"/>"
      ],
      "text/plain": [
       "<IPython.core.display.Markdown object>"
      ]
     },
     "metadata": {},
     "output_type": "display_data"
    },
    {
     "data": {
      "text/markdown": [
       "<img alt=\"Read Like the Wind Logo\" class=\"\" src=\"/vi-assets/static-assets/icon-read-like-the-wind_144x144-5bcf9faf41d0b49df1df29e59a868b36.webp\"/>"
      ],
      "text/plain": [
       "<IPython.core.display.Markdown object>"
      ]
     },
     "metadata": {},
     "output_type": "display_data"
    },
    {
     "data": {
      "text/markdown": [
       "<img alt=\"Watching Logo\" class=\"\" src=\"/vi-assets/static-assets/icon-watching_144x144-631a1da177f9fda1a7f4614ad8e607bd.webp\"/>"
      ],
      "text/plain": [
       "<IPython.core.display.Markdown object>"
      ]
     },
     "metadata": {},
     "output_type": "display_data"
    },
    {
     "data": {
      "text/markdown": [
       "<img alt=\"Book Review Logo\" class=\"\" src=\"https://static01.nyt.com/images/2018/03/27/books/book-review-album-art-v2/book-review-album-art-v2-thumbLarge-v3.jpg?quality=75&amp;auto=webp&amp;disable=upscale\"/>"
      ],
      "text/plain": [
       "<IPython.core.display.Markdown object>"
      ]
     },
     "metadata": {},
     "output_type": "display_data"
    },
    {
     "data": {
      "text/markdown": [
       "<img alt=\"Popcast Logo\" class=\"\" src=\"https://static01.nyt.com/images/2011/05/20/multimedia/music-popcast/music-popcast-thumbLarge-v3.jpg?quality=75&amp;auto=webp&amp;disable=upscale\"/>"
      ],
      "text/plain": [
       "<IPython.core.display.Markdown object>"
      ]
     },
     "metadata": {},
     "output_type": "display_data"
    },
    {
     "data": {
      "text/markdown": [
       "<img alt=\"Open Thread Logo\" class=\"\" src=\"/vi-assets/static-assets/icon-open-thread-fashion_144x144-8e1b4b3fd68c2f333faa63097da2249b.webp\"/>"
      ],
      "text/plain": [
       "<IPython.core.display.Markdown object>"
      ]
     },
     "metadata": {},
     "output_type": "display_data"
    },
    {
     "data": {
      "text/markdown": [
       "<img alt=\"Well Logo\" class=\"\" src=\"/vi-assets/static-assets/icon-well_144x144-433c9d15dc985dded9b705942592c6fb.webp\"/>"
      ],
      "text/plain": [
       "<IPython.core.display.Markdown object>"
      ]
     },
     "metadata": {},
     "output_type": "display_data"
    },
    {
     "data": {
      "text/markdown": [
       "<img alt=\"Modern Love Logo\" class=\"\" src=\"https://static01.nyt.com/images/2020/09/21/podcasts/modernlove-logo/modernlove-logo-thumbLarge-v3.jpg?quality=75&amp;auto=webp&amp;disable=upscale\"/>"
      ],
      "text/plain": [
       "<IPython.core.display.Markdown object>"
      ]
     },
     "metadata": {},
     "output_type": "display_data"
    },
    {
     "data": {
      "text/markdown": [
       "<img alt=\"Matter of Opinion Logo\" class=\"\" src=\"https://static01.nyt.com/images/2023/05/08/podcasts/matter-of-opinion-album-art/matter-of-opinion-album-art-thumbLarge-v2.jpg?quality=75&amp;auto=webp&amp;disable=upscale\"/>"
      ],
      "text/plain": [
       "<IPython.core.display.Markdown object>"
      ]
     },
     "metadata": {},
     "output_type": "display_data"
    },
    {
     "data": {
      "text/markdown": [
       "<img alt=\"The Ezra Klein Show Logo\" class=\"\" src=\"https://static01.nyt.com/images/2023/04/05/podcasts/ezra-klein-album-art/ezra-klein-album-art-thumbLarge-v3.png\"/>"
      ],
      "text/plain": [
       "<IPython.core.display.Markdown object>"
      ]
     },
     "metadata": {},
     "output_type": "display_data"
    },
    {
     "data": {
      "text/markdown": [
       "<img alt=\"The Interview Logo\" class=\"\" src=\"/vi-assets/static-assets/NYT-TheInterview-0232c6c95d42d77941fd3d8e5d2776cb.webp\"/>"
      ],
      "text/plain": [
       "<IPython.core.display.Markdown object>"
      ]
     },
     "metadata": {},
     "output_type": "display_data"
    },
    {
     "data": {
      "text/markdown": [
       "<img alt=\"The Headlines Logo\" class=\"\" src=\"https://static01.nyt.com/images/2022/10/12/podcasts/headlines-albumartwork-audioapp-2/headlines-albumartwork-audioapp-2-thumbLarge.png?quality=75&amp;auto=webp&amp;disable=upscale\"/>"
      ],
      "text/plain": [
       "<IPython.core.display.Markdown object>"
      ]
     },
     "metadata": {},
     "output_type": "display_data"
    },
    {
     "data": {
      "text/markdown": [
       "<img alt=\"Serial: The Good Whale Logo\" class=\"\" src=\"/vi-assets/static-assets/TheGoodWhale_144x144-f0eb13463973a1da8814328998990640.webp\"/>"
      ],
      "text/plain": [
       "<IPython.core.display.Markdown object>"
      ]
     },
     "metadata": {},
     "output_type": "display_data"
    },
    {
     "data": {
      "text/markdown": [
       "<img alt=\"Audio Logo\" class=\"\" src=\"/vi-assets/static-assets/icon-audio_144x144-dc00c6581be29065cbd19ec7a83a3767.webp\"/>"
      ],
      "text/plain": [
       "<IPython.core.display.Markdown object>"
      ]
     },
     "metadata": {},
     "output_type": "display_data"
    },
    {
     "data": {
      "text/markdown": [
       "<img alt=\"Gameplay Logo\" class=\"\" src=\"/vi-assets/static-assets/icon-gameplay_144x144-b6cc5e2a7cc27a43096274a02921329c.webp\"/>"
      ],
      "text/plain": [
       "<IPython.core.display.Markdown object>"
      ]
     },
     "metadata": {},
     "output_type": "display_data"
    },
    {
     "data": {
      "text/markdown": [
       "<img alt=\"Easy Mode Logo\" class=\"\" src=\"/vi-assets/static-assets/icon-games-easymode_144x144-307b8f657d987516abff44220313daae.webp\"/>"
      ],
      "text/plain": [
       "<IPython.core.display.Markdown object>"
      ]
     },
     "metadata": {},
     "output_type": "display_data"
    },
    {
     "data": {
      "text/markdown": [
       "<img alt=\"The Cooking Newsletter Logo\" class=\"\" src=\"/vi-assets/static-assets/icon-cooking_144x144-5a8be1ef711d4ba5e66b0be7a2ca8bfe.webp\"/>"
      ],
      "text/plain": [
       "<IPython.core.display.Markdown object>"
      ]
     },
     "metadata": {},
     "output_type": "display_data"
    },
    {
     "data": {
      "text/markdown": [
       "<img alt=\"The Veggie Logo\" class=\"\" src=\"/vi-assets/static-assets/icon-the-veggie_144x144-f99606e1ca100f88cdfd8d763bf442c5.webp\"/>"
      ],
      "text/plain": [
       "<IPython.core.display.Markdown object>"
      ]
     },
     "metadata": {},
     "output_type": "display_data"
    },
    {
     "data": {
      "text/markdown": [
       "<img alt=\"Five Weeknight Dishes Logo\" class=\"\" src=\"/vi-assets/static-assets/icon-five-weeknight-dishes_144x144-97d51c5d4ba98233667b4057e3d852ab.webp\"/>"
      ],
      "text/plain": [
       "<IPython.core.display.Markdown object>"
      ]
     },
     "metadata": {},
     "output_type": "display_data"
    },
    {
     "data": {
      "text/markdown": [
       "<img alt=\"The Recommendation Logo\" class=\"\" src=\"/vi-assets/static-assets/icon-the-recommendation_144x144-3e66bd6cc82013bd511c31a8f04d4ff7.webp\"/>"
      ],
      "text/plain": [
       "<IPython.core.display.Markdown object>"
      ]
     },
     "metadata": {},
     "output_type": "display_data"
    },
    {
     "data": {
      "text/markdown": [
       "<img alt=\"Clean Everything Logo\" class=\"\" src=\"/vi-assets/static-assets/icon-clean-everything_144x144-97312e349d7284039a2153cb541b7fda.webp\"/>"
      ],
      "text/plain": [
       "<IPython.core.display.Markdown object>"
      ]
     },
     "metadata": {},
     "output_type": "display_data"
    },
    {
     "data": {
      "text/markdown": [
       "<img alt=\"The Pulse Logo\" class=\"\" src=\"/vi-assets/static-assets/icon-athletic-pulse_144x144-393cbda91e2678278456723b62a9b21f.webp\"/>"
      ],
      "text/plain": [
       "<IPython.core.display.Markdown object>"
      ]
     },
     "metadata": {},
     "output_type": "display_data"
    },
    {
     "data": {
      "text/markdown": [
       "<img alt=\"Scoop City Logo\" class=\"\" src=\"/vi-assets/static-assets/icon-athletic-scoop-city_144x144-131bb9a92c77857aa6cac44772a74a77.webp\"/>"
      ],
      "text/plain": [
       "<IPython.core.display.Markdown object>"
      ]
     },
     "metadata": {},
     "output_type": "display_data"
    },
    {
     "data": {
      "text/markdown": [
       "<img alt=\"The Windup Logo\" class=\"\" src=\"/vi-assets/static-assets/icon-athletic-windup_144x144-c03f2bf7ebd88f1c239ba4a6b2228679.webp\"/>"
      ],
      "text/plain": [
       "<IPython.core.display.Markdown object>"
      ]
     },
     "metadata": {},
     "output_type": "display_data"
    },
    {
     "data": {
      "text/markdown": [
       "<img alt=\"The Athletic FC Logo\" class=\"\" src=\"/vi-assets/static-assets/icon-athletic-fc_144x144-a673fb497a7a58fd0a80b3d007b73b2f.webp\"/>"
      ],
      "text/plain": [
       "<IPython.core.display.Markdown object>"
      ]
     },
     "metadata": {},
     "output_type": "display_data"
    },
    {
     "data": {
      "text/markdown": [
       "<img alt=\"Donald Trump Jr. raises his right hand while speaking at a lectern that bears a “Trump Vance” sign.\" class=\"css-dzl7b5\" loading=\"lazy\"/>"
      ],
      "text/plain": [
       "<IPython.core.display.Markdown object>"
      ]
     },
     "metadata": {},
     "output_type": "display_data"
    },
    {
     "data": {
      "text/markdown": [
       "<img alt=\"Donald Trump Jr. raises his right hand while speaking at a lectern that bears a “Trump Vance” sign.\" class=\"css-122y91a\" src=\"https://static01.nyt.com/images/2024/11/26/multimedia/26DC-TRUMPJR-TOP-qhkb/26DC-TRUMPJR-TOP-qhkb-threeByTwoMediumAt2X.jpg?format=pjpg&amp;quality=75&amp;auto=webp&amp;disable=upscale\"/>"
      ],
      "text/plain": [
       "<IPython.core.display.Markdown object>"
      ]
     },
     "metadata": {},
     "output_type": "display_data"
    },
    {
     "data": {
      "text/markdown": [
       "<img alt=\"John Fetterman in a plum-colored short-sleeved shirt and standing in a hallway. A gold-plated elevator is visible behind him.\" class=\"css-dzl7b5\" loading=\"lazy\"/>"
      ],
      "text/plain": [
       "<IPython.core.display.Markdown object>"
      ]
     },
     "metadata": {},
     "output_type": "display_data"
    },
    {
     "data": {
      "text/markdown": [
       "<img alt=\"John Fetterman in a plum-colored short-sleeved shirt and standing in a hallway. A gold-plated elevator is visible behind him.\" class=\"css-122y91a\" src=\"https://static01.nyt.com/images/2024/11/27/multimedia/27-pol-on-politics-topitem-qpkg/27-pol-on-politics-topitem-qpkg-smallSquare252.jpg?format=pjpg&amp;quality=75&amp;auto=webp&amp;disable=upscale\"/>"
      ],
      "text/plain": [
       "<IPython.core.display.Markdown object>"
      ]
     },
     "metadata": {},
     "output_type": "display_data"
    },
    {
     "data": {
      "text/markdown": [
       "<img alt=\"President Claudia Sheinbaum of Mexico, sitting at a table and wearing earphones. A small Mexican flag is in front of her.\" class=\"css-dzl7b5\" loading=\"lazy\"/>"
      ],
      "text/plain": [
       "<IPython.core.display.Markdown object>"
      ]
     },
     "metadata": {},
     "output_type": "display_data"
    },
    {
     "data": {
      "text/markdown": [
       "<img alt=\"President Claudia Sheinbaum of Mexico, sitting at a table and wearing earphones. A small Mexican flag is in front of her.\" class=\"css-122y91a\" src=\"https://static01.nyt.com/images/2024/11/27/multimedia/27trump-news-mexico-sheinbaum1-ptvb/27trump-news-mexico-sheinbaum1-ptvb-smallSquare252-v3.jpg?format=pjpg&amp;quality=75&amp;auto=webp&amp;disable=upscale\"/>"
      ],
      "text/plain": [
       "<IPython.core.display.Markdown object>"
      ]
     },
     "metadata": {},
     "output_type": "display_data"
    },
    {
     "data": {
      "text/markdown": [
       "<img alt=\"\" class=\"css-dzl7b5\" loading=\"lazy\"/>"
      ],
      "text/plain": [
       "<IPython.core.display.Markdown object>"
      ]
     },
     "metadata": {},
     "output_type": "display_data"
    },
    {
     "data": {
      "text/markdown": [
       "<img alt=\"\" class=\"css-122y91a\" src=\"https://static01.nyt.com/images/2024/12/27/multimedia/27NAT-TEXAS-BORDER-promo-ctwg/27NAT-TEXAS-BORDER-promo-ctwg-smallSquare252-v3.jpg?format=pjpg&amp;quality=75&amp;auto=webp&amp;disable=upscale\"/>"
      ],
      "text/plain": [
       "<IPython.core.display.Markdown object>"
      ]
     },
     "metadata": {},
     "output_type": "display_data"
    },
    {
     "data": {
      "text/markdown": [
       "<img alt=\"\" class=\"css-jox6xh e1hd6kzw0\" height=\"1102\" src=\"https://static01.nyt.com/images/2024/11/27/multimedia/Thanksgiving-Balloons-Tapper-02-vtkl/Thanksgiving-Balloons-Tapper-02-vtkl-verticalTwoByThree735.jpg\" width=\"735\"/>"
      ],
      "text/plain": [
       "<IPython.core.display.Markdown object>"
      ]
     },
     "metadata": {},
     "output_type": "display_data"
    },
    {
     "data": {
      "text/markdown": [
       "<img alt=\"Graham Dickie\" class=\"css-dc6zx6 ey68jwv2\" src=\"https://static01.nyt.com/images/icons/t_logo_150_black.png\" title=\"Graham Dickie\"/>"
      ],
      "text/plain": [
       "<IPython.core.display.Markdown object>"
      ]
     },
     "metadata": {},
     "output_type": "display_data"
    },
    {
     "data": {
      "text/markdown": [
       "<img alt=\"\" class=\"css-jox6xh e1hd6kzw0\" height=\"1102\" src=\"https://static01.nyt.com/images/2024/11/27/multimedia/Thanksgiving-Balloons-Tapper-06-vtkl/Thanksgiving-Balloons-Tapper-06-vtkl-verticalTwoByThree735.jpg\" width=\"735\"/>"
      ],
      "text/plain": [
       "<IPython.core.display.Markdown object>"
      ]
     },
     "metadata": {},
     "output_type": "display_data"
    },
    {
     "data": {
      "text/markdown": [
       "<img alt=\"\" class=\"css-jox6xh e1hd6kzw0\" height=\"1102\" src=\"https://static01.nyt.com/images/2024/11/27/multimedia/Thanksgiving-Balloons-Tapper-07-vtkl/Thanksgiving-Balloons-Tapper-07-vtkl-verticalTwoByThree735.jpg\" width=\"735\"/>"
      ],
      "text/plain": [
       "<IPython.core.display.Markdown object>"
      ]
     },
     "metadata": {},
     "output_type": "display_data"
    },
    {
     "data": {
      "text/markdown": [
       "<img alt=\"\" class=\"css-jox6xh e1hd6kzw0\" height=\"1102\" src=\"https://static01.nyt.com/images/2024/11/27/multimedia/Thanksgiving-Balloons-Tapper-01-qzjc/Thanksgiving-Balloons-Tapper-01-qzjc-verticalTwoByThree735.jpg\" width=\"735\"/>"
      ],
      "text/plain": [
       "<IPython.core.display.Markdown object>"
      ]
     },
     "metadata": {},
     "output_type": "display_data"
    },
    {
     "data": {
      "text/markdown": [
       "<img alt=\"\" class=\"css-jox6xh e1hd6kzw0\" height=\"1102\" src=\"https://static01.nyt.com/images/2024/11/27/multimedia/Thanksgiving-Balloons-Tapper-tfjl/Thanksgiving-Balloons-Tapper-tfjl-verticalTwoByThree735.jpg\" width=\"735\"/>"
      ],
      "text/plain": [
       "<IPython.core.display.Markdown object>"
      ]
     },
     "metadata": {},
     "output_type": "display_data"
    },
    {
     "data": {
      "text/markdown": [
       "<img alt=\"\" class=\"css-jox6xh e1hd6kzw0\" height=\"1102\" src=\"https://static01.nyt.com/images/2024/11/27/multimedia/Thanksgiving-Balloons-Tapper-kvpw/Thanksgiving-Balloons-Tapper-kvpw-verticalTwoByThree735.jpg\" width=\"735\"/>"
      ],
      "text/plain": [
       "<IPython.core.display.Markdown object>"
      ]
     },
     "metadata": {},
     "output_type": "display_data"
    },
    {
     "data": {
      "text/markdown": [
       "<img alt=\"\" class=\"css-jox6xh e1hd6kzw0\" height=\"1102\" src=\"https://static01.nyt.com/images/2024/11/27/multimedia/Thanksgiving-Balloons-Tapper-05-vtkl/Thanksgiving-Balloons-Tapper-05-vtkl-verticalTwoByThree735.jpg\" width=\"735\"/>"
      ],
      "text/plain": [
       "<IPython.core.display.Markdown object>"
      ]
     },
     "metadata": {},
     "output_type": "display_data"
    },
    {
     "data": {
      "text/markdown": [
       "<img alt=\"A black-and-white photo of men in overhauls pulling produce along a long hall with a soaring ceiling and lamps hanging in a row overhead.\" class=\"css-dzl7b5\" loading=\"lazy\"/>"
      ],
      "text/plain": [
       "<IPython.core.display.Markdown object>"
      ]
     },
     "metadata": {},
     "output_type": "display_data"
    },
    {
     "data": {
      "text/markdown": [
       "<img alt=\"A black-and-white photo of men in overhauls pulling produce along a long hall with a soaring ceiling and lamps hanging in a row overhead.\" class=\"css-122y91a\" src=\"https://static01.nyt.com/images/2024/11/27/multimedia/27uk-smithfield-03-vfbw-homepage/27uk-smithfield-03-vfbw-homepage-threeByTwoMediumAt2X.jpg?format=pjpg&amp;quality=75&amp;auto=webp&amp;disable=upscale\"/>"
      ],
      "text/plain": [
       "<IPython.core.display.Markdown object>"
      ]
     },
     "metadata": {},
     "output_type": "display_data"
    },
    {
     "data": {
      "text/markdown": [
       "<img alt=\"People sitting on and around an escalator.\" class=\"css-dzl7b5\" loading=\"lazy\"/>"
      ],
      "text/plain": [
       "<IPython.core.display.Markdown object>"
      ]
     },
     "metadata": {},
     "output_type": "display_data"
    },
    {
     "data": {
      "text/markdown": [
       "<img alt=\"People sitting on and around an escalator.\" class=\"css-122y91a\" src=\"https://static01.nyt.com/images/2024/11/28/multimedia/28ukraine-strikes-1-cmlb/28ukraine-strikes-1-cmlb-threeByTwoMediumAt2X.jpg?format=pjpg&amp;quality=75&amp;auto=webp&amp;disable=upscale\"/>"
      ],
      "text/plain": [
       "<IPython.core.display.Markdown object>"
      ]
     },
     "metadata": {},
     "output_type": "display_data"
    },
    {
     "data": {
      "text/markdown": [
       "<img alt=\"\" class=\"css-dzl7b5\" loading=\"lazy\"/>"
      ],
      "text/plain": [
       "<IPython.core.display.Markdown object>"
      ]
     },
     "metadata": {},
     "output_type": "display_data"
    },
    {
     "data": {
      "text/markdown": [
       "<img alt=\"\" class=\"css-122y91a\" src=\"https://static01.nyt.com/images/2024/11/18/multimedia/00india-exams-01-wplz/00india-exams-01-wplz-threeByTwoMediumAt2X.jpg?format=pjpg&amp;quality=75&amp;auto=webp&amp;disable=upscale\"/>"
      ],
      "text/plain": [
       "<IPython.core.display.Markdown object>"
      ]
     },
     "metadata": {},
     "output_type": "display_data"
    },
    {
     "data": {
      "text/markdown": [
       "<img alt=\"A colonial-style house behind trees and shrubbery.\" class=\"css-dzl7b5\" loading=\"lazy\"/>"
      ],
      "text/plain": [
       "<IPython.core.display.Markdown object>"
      ]
     },
     "metadata": {},
     "output_type": "display_data"
    },
    {
     "data": {
      "text/markdown": [
       "<img alt=\"A colonial-style house behind trees and shrubbery.\" class=\"css-122y91a\" src=\"https://static01.nyt.com/images/2024/11/26/multimedia/26kenburns-newhampshirehome-alt1-lbkm/26kenburns-newhampshirehome-alt1-lbkm-threeByTwoMediumAt2X.jpg?format=pjpg&amp;quality=75&amp;auto=webp&amp;disable=upscale\"/>"
      ],
      "text/plain": [
       "<IPython.core.display.Markdown object>"
      ]
     },
     "metadata": {},
     "output_type": "display_data"
    },
    {
     "data": {
      "text/markdown": [
       "<img alt=\"\" class=\"slideshow-animate css-3kzcvh\" loading=\"lazy\"/>"
      ],
      "text/plain": [
       "<IPython.core.display.Markdown object>"
      ]
     },
     "metadata": {},
     "output_type": "display_data"
    },
    {
     "data": {
      "text/markdown": [
       "<img alt=\"\" class=\"css-122y91a\" src=\"https://static01.nyt.com/images/2024/11/28/multimedia/28nat-big-turkey-hp-fader-01-wzkc/28nat-big-turkey-hp-fader-01-wzkc-threeByTwoMediumAt2X.jpg?format=pjpg&amp;quality=75&amp;auto=webp&amp;disable=upscale\"/>"
      ],
      "text/plain": [
       "<IPython.core.display.Markdown object>"
      ]
     },
     "metadata": {},
     "output_type": "display_data"
    },
    {
     "data": {
      "text/markdown": [
       "<img alt=\"\" class=\"slideshow-animate css-3kzcvh\" loading=\"lazy\"/>"
      ],
      "text/plain": [
       "<IPython.core.display.Markdown object>"
      ]
     },
     "metadata": {},
     "output_type": "display_data"
    },
    {
     "data": {
      "text/markdown": [
       "<img alt=\"\" class=\"css-122y91a\" src=\"https://static01.nyt.com/images/2024/11/28/multimedia/28nat-big-turkey-hp-fader-02-wzkc/28nat-big-turkey-hp-fader-02-wzkc-threeByTwoMediumAt2X.jpg?format=pjpg&amp;quality=75&amp;auto=webp&amp;disable=upscale\"/>"
      ],
      "text/plain": [
       "<IPython.core.display.Markdown object>"
      ]
     },
     "metadata": {},
     "output_type": "display_data"
    },
    {
     "data": {
      "text/markdown": [
       "<img alt=\"\" class=\"slideshow-animate css-3kzcvh\" loading=\"lazy\"/>"
      ],
      "text/plain": [
       "<IPython.core.display.Markdown object>"
      ]
     },
     "metadata": {},
     "output_type": "display_data"
    },
    {
     "data": {
      "text/markdown": [
       "<img alt=\"\" class=\"css-122y91a\" src=\"https://static01.nyt.com/images/2024/11/28/multimedia/28nat-big-turkey-hp-fader-03-wzkc/28nat-big-turkey-hp-fader-03-wzkc-threeByTwoMediumAt2X.jpg?format=pjpg&amp;quality=75&amp;auto=webp&amp;disable=upscale\"/>"
      ],
      "text/plain": [
       "<IPython.core.display.Markdown object>"
      ]
     },
     "metadata": {},
     "output_type": "display_data"
    },
    {
     "data": {
      "text/markdown": [
       "<img alt=\"\" class=\"slideshow-animate css-3kzcvh\" loading=\"lazy\"/>"
      ],
      "text/plain": [
       "<IPython.core.display.Markdown object>"
      ]
     },
     "metadata": {},
     "output_type": "display_data"
    },
    {
     "data": {
      "text/markdown": [
       "<img alt=\"\" class=\"css-122y91a\" src=\"https://static01.nyt.com/images/2024/11/28/multimedia/28nat-big-turkey-hp-fader-04-wzkc/28nat-big-turkey-hp-fader-04-wzkc-threeByTwoMediumAt2X.jpg?format=pjpg&amp;quality=75&amp;auto=webp&amp;disable=upscale\"/>"
      ],
      "text/plain": [
       "<IPython.core.display.Markdown object>"
      ]
     },
     "metadata": {},
     "output_type": "display_data"
    },
    {
     "data": {
      "text/markdown": [
       "<img alt=\"\" class=\"slideshow-animate css-3kzcvh\" loading=\"lazy\"/>"
      ],
      "text/plain": [
       "<IPython.core.display.Markdown object>"
      ]
     },
     "metadata": {},
     "output_type": "display_data"
    },
    {
     "data": {
      "text/markdown": [
       "<img alt=\"\" class=\"css-122y91a\" src=\"https://static01.nyt.com/images/2024/11/28/multimedia/28nat-big-turkey-hp-fader-05-wzkc/28nat-big-turkey-hp-fader-05-wzkc-threeByTwoMediumAt2X.jpg?format=pjpg&amp;quality=75&amp;auto=webp&amp;disable=upscale\"/>"
      ],
      "text/plain": [
       "<IPython.core.display.Markdown object>"
      ]
     },
     "metadata": {},
     "output_type": "display_data"
    },
    {
     "data": {
      "text/markdown": [
       "<img alt=\"\" class=\"slideshow-animate css-3kzcvh\" loading=\"lazy\"/>"
      ],
      "text/plain": [
       "<IPython.core.display.Markdown object>"
      ]
     },
     "metadata": {},
     "output_type": "display_data"
    },
    {
     "data": {
      "text/markdown": [
       "<img alt=\"\" class=\"css-122y91a\" src=\"https://static01.nyt.com/images/2024/11/28/multimedia/28nat-big-turkey-hp-fader-06-wzkc/28nat-big-turkey-hp-fader-06-wzkc-threeByTwoMediumAt2X.jpg?format=pjpg&amp;quality=75&amp;auto=webp&amp;disable=upscale\"/>"
      ],
      "text/plain": [
       "<IPython.core.display.Markdown object>"
      ]
     },
     "metadata": {},
     "output_type": "display_data"
    },
    {
     "data": {
      "text/markdown": [
       "<img alt=\"Maureen Dowd\" class=\"css-1ii2lp6\" loading=\"lazy\"/>"
      ],
      "text/plain": [
       "<IPython.core.display.Markdown object>"
      ]
     },
     "metadata": {},
     "output_type": "display_data"
    },
    {
     "data": {
      "text/markdown": [
       "<img alt=\"Maureen Dowd\" class=\"css-122y91a\" src=\"https://static01.nyt.com/images/2018/04/02/opinion/maureen-dowd/maureen-dowd-thumbLarge.png?format=pjpg&amp;quality=75&amp;auto=webp&amp;disable=upscale\"/>"
      ],
      "text/plain": [
       "<IPython.core.display.Markdown object>"
      ]
     },
     "metadata": {},
     "output_type": "display_data"
    },
    {
     "data": {
      "text/markdown": [
       "<img alt=\"Donald Trump, onstage and in a navy suit with a red tie, dances with his arms in the air.\" class=\"css-dzl7b5\" loading=\"lazy\"/>"
      ],
      "text/plain": [
       "<IPython.core.display.Markdown object>"
      ]
     },
     "metadata": {},
     "output_type": "display_data"
    },
    {
     "data": {
      "text/markdown": [
       "<img alt=\"Donald Trump, onstage and in a navy suit with a red tie, dances with his arms in the air.\" class=\"css-122y91a\" src=\"https://static01.nyt.com/images/2024/11/28/multimedia/28dowd-hgzl/28dowd-hgzl-threeByTwoMediumAt2X.jpg?format=pjpg&amp;quality=75&amp;auto=webp&amp;disable=upscale\"/>"
      ],
      "text/plain": [
       "<IPython.core.display.Markdown object>"
      ]
     },
     "metadata": {},
     "output_type": "display_data"
    },
    {
     "data": {
      "text/markdown": [
       "<img alt=\"Daniela J. Lamas\" class=\"css-1ii2lp6\" loading=\"lazy\"/>"
      ],
      "text/plain": [
       "<IPython.core.display.Markdown object>"
      ]
     },
     "metadata": {},
     "output_type": "display_data"
    },
    {
     "data": {
      "text/markdown": [
       "<img alt=\"Daniela J. Lamas\" class=\"css-122y91a\" src=\"https://static01.nyt.com/images/2021/04/23/opinion/daniela-lamas/daniela-lamas-thumbLarge.png?format=pjpg&amp;quality=75&amp;auto=webp&amp;disable=upscale\"/>"
      ],
      "text/plain": [
       "<IPython.core.display.Markdown object>"
      ]
     },
     "metadata": {},
     "output_type": "display_data"
    },
    {
     "data": {
      "text/markdown": [
       "<img alt=\"Pamela Paul\" class=\"css-1ii2lp6\" loading=\"lazy\"/>"
      ],
      "text/plain": [
       "<IPython.core.display.Markdown object>"
      ]
     },
     "metadata": {},
     "output_type": "display_data"
    },
    {
     "data": {
      "text/markdown": [
       "<img alt=\"Pamela Paul\" class=\"css-122y91a\" src=\"https://static01.nyt.com/images/2022/07/12/opinion/pamela-paul-new/pamela-paul-new-thumbLarge-v2.png?format=pjpg&amp;quality=75&amp;auto=webp&amp;disable=upscale\"/>"
      ],
      "text/plain": [
       "<IPython.core.display.Markdown object>"
      ]
     },
     "metadata": {},
     "output_type": "display_data"
    },
    {
     "data": {
      "text/markdown": [
       "<img alt=\"A headdress with red, white and black feathers and beads.\" class=\"css-dzl7b5\" loading=\"lazy\"/>"
      ],
      "text/plain": [
       "<IPython.core.display.Markdown object>"
      ]
     },
     "metadata": {},
     "output_type": "display_data"
    },
    {
     "data": {
      "text/markdown": [
       "<img alt=\"A headdress with red, white and black feathers and beads.\" class=\"css-122y91a\" src=\"https://static01.nyt.com/images/2024/11/26/multimedia/00spotted-tail-01-hkpv/00spotted-tail-01-hkpv-threeByTwoMediumAt2X.jpg?format=pjpg&amp;quality=75&amp;auto=webp&amp;disable=upscale\"/>"
      ],
      "text/plain": [
       "<IPython.core.display.Markdown object>"
      ]
     },
     "metadata": {},
     "output_type": "display_data"
    },
    {
     "data": {
      "text/markdown": [
       "<img alt=\"\" class=\"css-dzl7b5\" loading=\"lazy\"/>"
      ],
      "text/plain": [
       "<IPython.core.display.Markdown object>"
      ]
     },
     "metadata": {},
     "output_type": "display_data"
    },
    {
     "data": {
      "text/markdown": [
       "<img alt=\"\" class=\"css-122y91a\" src=\"https://static01.nyt.com/images/2024/11/27/multimedia/27PROJECTIONIST-DEADWYLER-02-bktq/27PROJECTIONIST-DEADWYLER-02-bktq-threeByTwoMediumAt2X.jpg?format=pjpg&amp;quality=75&amp;auto=webp&amp;disable=upscale\"/>"
      ],
      "text/plain": [
       "<IPython.core.display.Markdown object>"
      ]
     },
     "metadata": {},
     "output_type": "display_data"
    },
    {
     "data": {
      "text/markdown": [
       "<img alt=\"\" class=\"css-dzl7b5\" loading=\"lazy\"/>"
      ],
      "text/plain": [
       "<IPython.core.display.Markdown object>"
      ]
     },
     "metadata": {},
     "output_type": "display_data"
    },
    {
     "data": {
      "text/markdown": [
       "<img alt=\"\" class=\"css-122y91a\" src=\"https://static01.nyt.com/images/2022/03/02/crosswords/alpha-wordle-icon-new/alpha-wordle-icon-new-smallSquare252-v3.png?format=pjpg&amp;quality=75&amp;auto=webp&amp;disable=upscale\"/>"
      ],
      "text/plain": [
       "<IPython.core.display.Markdown object>"
      ]
     },
     "metadata": {},
     "output_type": "display_data"
    },
    {
     "data": {
      "text/markdown": [
       "<img alt=\"\" class=\"css-dzl7b5\" loading=\"lazy\"/>"
      ],
      "text/plain": [
       "<IPython.core.display.Markdown object>"
      ]
     },
     "metadata": {},
     "output_type": "display_data"
    },
    {
     "data": {
      "text/markdown": [
       "<img alt=\"\" class=\"css-122y91a\" src=\"https://static01.nyt.com/images/2023/08/25/crosswords/alpha-connections-icon-original/alpha-connections-icon-original-smallSquare252.png?format=pjpg&amp;quality=75&amp;auto=webp&amp;disable=upscale\"/>"
      ],
      "text/plain": [
       "<IPython.core.display.Markdown object>"
      ]
     },
     "metadata": {},
     "output_type": "display_data"
    },
    {
     "data": {
      "text/markdown": [
       "<img alt=\"\" class=\"css-dzl7b5\" loading=\"lazy\"/>"
      ],
      "text/plain": [
       "<IPython.core.display.Markdown object>"
      ]
     },
     "metadata": {},
     "output_type": "display_data"
    },
    {
     "data": {
      "text/markdown": [
       "<img alt=\"\" class=\"css-122y91a\" src=\"https://static01.nyt.com/images/2024/01/16/crosswords/alpha-strands-icon/alpha-strands-icon-smallSquare252.png?format=pjpg&amp;quality=75&amp;auto=webp&amp;disable=upscale\"/>"
      ],
      "text/plain": [
       "<IPython.core.display.Markdown object>"
      ]
     },
     "metadata": {},
     "output_type": "display_data"
    },
    {
     "data": {
      "text/markdown": [
       "<img alt=\"\" class=\"css-dzl7b5\" loading=\"lazy\"/>"
      ],
      "text/plain": [
       "<IPython.core.display.Markdown object>"
      ]
     },
     "metadata": {},
     "output_type": "display_data"
    },
    {
     "data": {
      "text/markdown": [
       "<img alt=\"\" class=\"css-122y91a\" src=\"https://static01.nyt.com/images/2020/03/23/crosswords/spelling-bee-logo-nytgames-hi-res/spelling-bee-logo-nytgames-hi-res-smallSquare252-v4.png?format=pjpg&amp;quality=75&amp;auto=webp&amp;disable=upscale\"/>"
      ],
      "text/plain": [
       "<IPython.core.display.Markdown object>"
      ]
     },
     "metadata": {},
     "output_type": "display_data"
    },
    {
     "data": {
      "text/markdown": [
       "<img alt=\"\" class=\"css-dzl7b5\" loading=\"lazy\"/>"
      ],
      "text/plain": [
       "<IPython.core.display.Markdown object>"
      ]
     },
     "metadata": {},
     "output_type": "display_data"
    },
    {
     "data": {
      "text/markdown": [
       "<img alt=\"\" class=\"css-122y91a\" src=\"https://static01.nyt.com/images/2020/03/23/crosswords/crossword-logo-nytgames-hires/crossword-logo-nytgames-hires-smallSquare252-v3.png?format=pjpg&amp;quality=75&amp;auto=webp&amp;disable=upscale\"/>"
      ],
      "text/plain": [
       "<IPython.core.display.Markdown object>"
      ]
     },
     "metadata": {},
     "output_type": "display_data"
    },
    {
     "data": {
      "text/markdown": [
       "<img alt=\"\" class=\"css-dzl7b5\" loading=\"lazy\"/>"
      ],
      "text/plain": [
       "<IPython.core.display.Markdown object>"
      ]
     },
     "metadata": {},
     "output_type": "display_data"
    },
    {
     "data": {
      "text/markdown": [
       "<img alt=\"\" class=\"css-122y91a\" src=\"https://static01.nyt.com/images/2021/03/23/multimedia/alpha-mini-promo-1616527576800/alpha-mini-promo-1616527576800-smallSquare252-v4.png?format=pjpg&amp;quality=75&amp;auto=webp&amp;disable=upscale\"/>"
      ],
      "text/plain": [
       "<IPython.core.display.Markdown object>"
      ]
     },
     "metadata": {},
     "output_type": "display_data"
    }
   ],
   "source": [
    "from IPython.display import Markdown, display\n",
    "\n",
    "# Loop through all the images on the NYT front page\n",
    "for image in document.find_all('img'):\n",
    "    \n",
    "    # Convert the image tag to a string\n",
    "    image_string = str(image)\n",
    "    \n",
    "    # Transform the tag to Markdown and then display it as Markdown\n",
    "    display(Markdown(image_string))"
   ]
  },
  {
   "cell_type": "markdown",
   "metadata": {},
   "source": [
    "## Quick Demonstration of Image Scraping — Bill Gates's LinkedIn Page"
   ]
  },
  {
   "cell_type": "markdown",
   "metadata": {},
   "source": [
    "https://www.linkedin.com/in/williamhgates/"
   ]
  },
  {
   "cell_type": "code",
   "execution_count": 5,
   "metadata": {},
   "outputs": [],
   "source": [
    "response = requests.get(\"https://www.linkedin.com/in/williamhgates/\")\n",
    "html_string = response.text\n",
    "document = BeautifulSoup(html_string, \"html.parser\")"
   ]
  },
  {
   "cell_type": "code",
   "execution_count": 6,
   "metadata": {},
   "outputs": [],
   "source": [
    "from IPython.display import Markdown, display\n",
    "\n",
    "# Loop through all the images on the NYT front page\n",
    "for image in document.find_all('img'):\n",
    "    # Convert the image tag to a string\n",
    "    image_string = str(image)\n",
    "    # Transform the tag to Markdown and then display it as Markdown\n",
    "    display(Markdown(image_string))"
   ]
  },
  {
   "cell_type": "markdown",
   "metadata": {},
   "source": [
    "What's going wrong here?"
   ]
  },
  {
   "cell_type": "code",
   "execution_count": 7,
   "metadata": {},
   "outputs": [
    {
     "data": {
      "text/plain": [
       "<Response [999]>"
      ]
     },
     "execution_count": 7,
     "metadata": {},
     "output_type": "execute_result"
    }
   ],
   "source": [
    "response"
   ]
  },
  {
   "cell_type": "markdown",
   "metadata": {},
   "source": [
    "## Scraping Multiple Web Pages At a Time"
   ]
  },
  {
   "cell_type": "markdown",
   "metadata": {},
   "source": [
    "In the last lesson, we figured out how to scrape the lyrics for a single Missy Elliott song."
   ]
  },
  {
   "cell_type": "code",
   "execution_count": 8,
   "metadata": {},
   "outputs": [],
   "source": [
    "response = requests.get(\"https://genius.com/Missy-elliott-work-it-lyrics\")\n",
    "html_string = response.text\n",
    "document = BeautifulSoup(html_string, \"html.parser\")"
   ]
  },
  {
   "cell_type": "code",
   "execution_count": 10,
   "metadata": {
    "scrolled": true
   },
   "outputs": [
    {
     "name": "stdout",
     "output_type": "stream",
     "text": [
      "[Intro] DJ, please pick up your phone, I'm on the request line This is a Missy Elliott one-time exclusive (C'mon) [Chorus] Is it worth it? Let me work it I put my thing down, flip it and reverse it ​ti esrever dna ti pilf ,nwod gniht ym tuP ​ti esrever dna ti pilf ,nwod gniht ym tuP If you got a big— let me search ya And find out how hard I gotta work ya ​ti esrever dna ti pilf ,nwod gniht ym tuP ​ti esrever dna ti pilf ,nwod gniht ym tuP  (C'mon) [Verse 1] I'd like to get to know ya so I could show ya Put the pussy on ya like I told ya Give me all your numbers so I can phone ya Your girl acting stank, then call me over Not on the bed, lay me on your sofa Call before you come, I need to shave my chocha You do or you don't or you will or won't ya? Go downtown and eat it like a vulture See my hips and my tips, don't ya? See my ass and my lips, don't ya? Lost a few pounds and my waist for ya This the kind of beat that go ra-ta-ta Ra-ta-ta-ta-ta-ta-ta-ta-ta-ta Sex me so good I say blah-blah-blah Work it, I need a glass of water Boy, oh boy , it's good to know ya (C'mon)\n",
      "[Chorus] Is it worth it? Let me work it I put my thing down, flip it and reverse it ​ti esrever dna ti pilf ,nwod gniht ym tuP ​ti esrever dna ti pilf ,nwod gniht ym tuP If you got a big— let me search ya And find out how hard I gotta work ya ​ti esrever dna ti pilf ,nwod gniht ym tuP ​ti esrever dna ti pilf ,nwod gniht ym tuP  (C'mon) [Verse 2] If you a fly gal, get your nails done Get a pedicure, get your hair did Boy, lift it up, let's make a toast-a Let's get drunk, that's gonna bring us closer (Okay) Don't I look like a Halle Berry poster? See the Belvedere playing tricks on ya (Ah) Girlfriend wanna be like me, never You won't find a bitch that's even better (Ah) I make you hot as Las Vegas weather Listen up close while I take it backwards ​sdrawkcab ti ekat ot ekil yssiM yaw eht hctaW I'm not a prostitute, but I could give you what you want I love your braids   and your mouth full of fronts Love the way my ass go ba-bum-bum-bum-bum (Huh) Keep your eyes on my ba-bum-bum-bum-bum-bum (Okay) You think you can handle this? Ga-dunk-a-dunk-dunk (Woo) Take my thong off and my ass go boom (Ugh) Cut the lights on so you see what I could do (C'mon)\n",
      "[Chorus] Is it worth it? Let me work it I put my thing down, flip it and reverse it ​ti esrever dna ti pilf ,nwod gniht ym tuP ​ti esrever dna ti pilf ,nwod gniht ym tuP (Ooh) If you got a big— let me search ya And find out how hard I gotta work ya ​ti esrever dna ti pilf ,nwod gniht ym tuP (Huh) ​ti esrever dna ti pilf ,nwod gniht ym tuP (C'mon, c'mon) [Bridge] Boys, boys, all type of boys Black, white, Puerto Rican, Chinese boys (C'mon) Why-thai, thai-o-toy-o-thai-thai Why-thai, thai-o-toy-o-thai-thai (C'mon) Girls, girls, get that cash If it's nine to five or shaking your ass (Aha) Ain't no shame, ladies do your thing (C'mon) Just make sure you ahead of the game [Verse 3] Just 'cause I got a lot of fame super Prince couldn't get me change my name, papa Kunta Kinte a slave again, no sir Picture Blacks saying, “Oh yes-a, massa” Picture Lil' Kim dating a pastor Minute man, Big Red could outlast ya Who is the best? I don't have to ask ya When I come out, you won't even matter (Ugh) Why you act dumb like, yeah, duh? So you act dumb like, uh, duh As the drummer boy go ba-rom-pop-pom-pom (Ooh) Give you some-some-some of this cinna-bun (C'mon)\n",
      "[Chorus] Is it worth it? Let me work it I put my thing down, flip it and reverse it ​ti esrever dna ti pilf ,nwod gniht ym tuP ​ti esrever dna ti pilf ,nwod gniht ym tuP (Ooh) If you got a big— let me search ya And find out how hard I gotta work ya ​ti esrever dna ti pilf ,nwod gniht ym tuP ​ti esrever dna ti pilf ,nwod gniht ym tuP  (C'mon) [Outro] To my fellas (Ooh, good God) I like the way you work that (Uh-huh, la-la-la-la) To my ladies (Woo) You sure know how to work that  (Good God)\n"
     ]
    }
   ],
   "source": [
    "lyrics_tag = document.find_all(\"div\", attrs={\"class\":\"Lyrics__Container-sc-1ynbvzw-1 kUgSbL\"})\n",
    "\n",
    "lyrics = []\n",
    "for content in lyrics_tag:\n",
    "    line = content.get_text(separator=\" \")\n",
    "    lyrics.append(line)\n",
    "\n",
    "for content in lyrics:\n",
    "    print(content)"
   ]
  },
  {
   "cell_type": "markdown",
   "metadata": {},
   "source": [
    "But how can we scrape lyrics for multiple Missy Elliott songs at a time?"
   ]
  },
  {
   "cell_type": "markdown",
   "metadata": {},
   "source": [
    "### Figure Out the Pattern"
   ]
  },
  {
   "cell_type": "markdown",
   "metadata": {},
   "source": [
    "What we need to do is figure out how to progammatically generate the correct Genius web page URL for each song we're interested in:"
   ]
  },
  {
   "cell_type": "markdown",
   "metadata": {},
   "source": [
    "`f\"https://genius.com/Missy-elliott-{formatted_song}-lyrics\"`"
   ]
  },
  {
   "cell_type": "code",
   "execution_count": 11,
   "metadata": {},
   "outputs": [],
   "source": [
    "song_titles = ['Work It', 'WTF (Where They From)', 'The Rain (Supa Dupa Fly)']"
   ]
  },
  {
   "cell_type": "markdown",
   "metadata": {},
   "source": [
    "```\n",
    "for song in song_titles:\n",
    "    formatted_song = ?????\n",
    "    response = requests.get(f\"https://genius.com/Missy-elliott-{formatted_song}-lyrics\")\n",
    "    html_string = response.text\n",
    "    document = BeautifulSoup(html_string, \"html.parser\")\n",
    "    document.find('p').text\n",
    "```"
   ]
  },
  {
   "cell_type": "markdown",
   "metadata": {},
   "source": [
    "Let's inspect the Genius web pages for each of these songs:"
   ]
  },
  {
   "cell_type": "markdown",
   "metadata": {},
   "source": [
    "https://genius.com/Missy-elliott-work-it-lyrics"
   ]
  },
  {
   "cell_type": "markdown",
   "metadata": {},
   "source": [
    "https://genius.com/Missy-elliott-the-rain-supa-dupa-fly-lyrics"
   ]
  },
  {
   "cell_type": "markdown",
   "metadata": {},
   "source": [
    "https://genius.com/Missy-elliott-wtf-where-they-from-lyrics"
   ]
  },
  {
   "cell_type": "markdown",
   "metadata": {},
   "source": [
    "### Make Song Titles Fit Pattern — Your Turn!"
   ]
  },
  {
   "cell_type": "markdown",
   "metadata": {},
   "source": [
    "Create a function called `format_song()` that will take in a song title and then return the song title correctly formatted for its Genius web page.\n",
    "\n",
    "For example, the song `WTF (Where They From)` needs to be converted to `wtf-where-they-from`."
   ]
  },
  {
   "cell_type": "markdown",
   "metadata": {},
   "source": [
    "Hint: You will need to use [string methods](https://info1350.github.io/Intro-CA-SP21/02-Python/06-String-Methods.html#id1)!"
   ]
  },
  {
   "cell_type": "code",
   "execution_count": 12,
   "metadata": {},
   "outputs": [],
   "source": [
    "def format_song(song):\n",
    "    #Your Code Here 👇\n",
    "    \n",
    "    \n",
    "    \n",
    "    \n",
    "    return formatted_song"
   ]
  },
  {
   "cell_type": "markdown",
   "metadata": {},
   "source": [
    "Test of your function on these two song titles to make sure it's working correctly."
   ]
  },
  {
   "cell_type": "code",
   "execution_count": 149,
   "metadata": {},
   "outputs": [
    {
     "data": {
      "text/plain": [
       "'wtf-where-they-from'"
      ]
     },
     "execution_count": 149,
     "metadata": {},
     "output_type": "execute_result"
    }
   ],
   "source": [
    "format_song('WTF (Where They From)')"
   ]
  },
  {
   "cell_type": "code",
   "execution_count": 150,
   "metadata": {},
   "outputs": [
    {
     "data": {
      "text/plain": [
       "'work-it'"
      ]
     },
     "execution_count": 150,
     "metadata": {},
     "output_type": "execute_result"
    }
   ],
   "source": [
    "format_song('Work It')"
   ]
  },
  {
   "cell_type": "markdown",
   "metadata": {},
   "source": [
    "### Put It All Together"
   ]
  },
  {
   "cell_type": "code",
   "execution_count": 156,
   "metadata": {},
   "outputs": [],
   "source": [
    "song_titles = ['Work It', 'WTF (Where They From)', 'The Rain (Supa Dupa Fly)']"
   ]
  },
  {
   "cell_type": "markdown",
   "metadata": {},
   "source": [
    "Now use your `format_song()` function to create the variable `formatted_song`, which will allow the code below to work."
   ]
  },
  {
   "cell_type": "code",
   "execution_count": null,
   "metadata": {},
   "outputs": [],
   "source": [
    "for song in song_titles:\n",
    "    formatted_song = ???? #Use your format_song() function here\n",
    "    response = requests.get(f\"https://genius.com/Missy-elliott-{formatted_song}-lyrics\")\n",
    "    html_string = response.text\n",
    "    document = BeautifulSoup(html_string, \"html.parser\")\n",
    "    lyrics = document.find('p').text\n",
    "    print(lyrics)"
   ]
  },
  {
   "cell_type": "markdown",
   "metadata": {},
   "source": [
    "## Write Lyrics to a Text File"
   ]
  },
  {
   "cell_type": "code",
   "execution_count": 152,
   "metadata": {},
   "outputs": [],
   "source": [
    "song_titles = ['Work It', 'WTF (Where They From)', 'The Rain (Supa Dupa Fly)']"
   ]
  },
  {
   "cell_type": "markdown",
   "metadata": {},
   "source": [
    "Here we are writing the lyrics to a text file rather than printing them out.\n",
    "\n",
    "Again, use your `format_song()` function to create the variable `formatted_song`, which will allow the code below to work."
   ]
  },
  {
   "cell_type": "code",
   "execution_count": 160,
   "metadata": {},
   "outputs": [],
   "source": [
    "with open('Missy-Elliott-Lyrics.txt', mode='w') as file_object:\n",
    "    \n",
    "    for song in song_titles:\n",
    "        formatted_song = format_song(song)  #Use your format_song() function here\n",
    "        response = requests.get(f\"https://genius.com/Missy-elliott-{formatted_song}-lyrics\")\n",
    "        html_string = response.text\n",
    "        document = BeautifulSoup(html_string, \"html.parser\")\n",
    "        lyrics = document.find('p').text\n",
    "        \n",
    "        file_object.write(lyrics)"
   ]
  },
  {
   "cell_type": "markdown",
   "metadata": {},
   "source": [
    "## Count Top Words From File"
   ]
  },
  {
   "cell_type": "markdown",
   "metadata": {},
   "source": [
    "If we wanted to find out the most frequent words in Missy Elliott's lyrics, we could use the word counter code that we've used in previous lessons."
   ]
  },
  {
   "cell_type": "code",
   "execution_count": 13,
   "metadata": {},
   "outputs": [],
   "source": [
    "import re\n",
    "from collections import Counter\n",
    "\n",
    "stopwords = ['i', 'me', 'my', 'myself', 'we', 'our', 'ours', 'ourselves', 'you', 'your', 'yours',\n",
    " 'yourself', 'yourselves', 'he', 'him', 'his', 'himself', 'she', 'her', 'hers',\n",
    " 'herself', 'it', 'its', 'itself', 'they', 'them', 'their', 'theirs', 'themselves',\n",
    " 'what', 'which', 'who', 'whom', 'this', 'that', 'these', 'those', 'am', 'is', 'are',\n",
    " 'was', 'were', 'be', 'been', 'being', 'have', 'has', 'had', 'having', 'do', 'does',\n",
    " 'did', 'doing', 'a', 'an', 'the', 'and', 'but', 'if', 'or', 'because', 'as', 'until',\n",
    " 'while', 'of', 'at', 'by', 'for', 'with', 'about', 'against', 'between', 'into',\n",
    " 'through', 'during', 'before', 'after', 'above', 'below', 'to', 'from', 'up', 'down',\n",
    " 'in', 'out', 'on', 'off', 'over', 'under', 'again', 'further', 'then', 'once', 'here',\n",
    " 'there', 'when', 'where', 'why', 'how', 'all', 'any', 'both', 'each', 'few', 'more',\n",
    " 'most', 'other', 'some', 'such', 'no', 'nor', 'not', 'only', 'own', 'same', 'so',\n",
    " 'than', 'too', 'very', 's', 't', 'can', 'will', 'just', 'don', 'should', 'now', 've', 'll', 'amp']\n",
    "\n",
    "\n",
    "def split_into_words(any_chunk_of_text):\n",
    "    lowercase_text = any_chunk_of_text.lower()\n",
    "    split_words = re.split(\"\\W+\", lowercase_text)\n",
    "    return split_words\n",
    "\n",
    "def get_top_words(full_text, number_of_words=20):\n",
    "    all_the_words = split_into_words(full_text)\n",
    "    meaningful_words = [word for word in all_the_words if word not in stopwords]\n",
    "    meaningful_words_tally = Counter(meaningful_words)\n",
    "    most_frequent_meaningful_words = meaningful_words_tally.most_common(number_of_words)\n",
    "    return most_frequent_meaningful_words"
   ]
  },
  {
   "cell_type": "markdown",
   "metadata": {},
   "source": [
    "Let's read in the file that we created and get the top words."
   ]
  },
  {
   "cell_type": "code",
   "execution_count": null,
   "metadata": {},
   "outputs": [],
   "source": [
    "missy_lyrics = open('Missy-Elliott-Lyrics.txt').read()\n",
    "get_top_words(missy_lyrics)"
   ]
  },
  {
   "cell_type": "markdown",
   "metadata": {},
   "source": [
    "## What patterns do you notice about the top 20 words from these Missy Elliott songs?\n",
    "Feel free to open the text file in the file browser at the left and inspect the lyrics manually"
   ]
  },
  {
   "cell_type": "markdown",
   "metadata": {},
   "source": [
    "## Bonus: If You Wanted to Change the Artist..."
   ]
  },
  {
   "cell_type": "code",
   "execution_count": null,
   "metadata": {},
   "outputs": [],
   "source": [
    "artist = 'Bts'\n",
    "song_titles = ['Dynamite', 'Euphoria', 'Fake Love']\n",
    "\n",
    "for song in song_titles:\n",
    "    formatted_song = ???? #Use your format_song() function here\n",
    "    response = requests.get(f\"https://genius.com/{artist}-{formatted_song}-lyrics\")\n",
    "    html_string = response.text\n",
    "    document = BeautifulSoup(html_string, \"html.parser\")\n",
    "    lyrics = document.find('p').text\n",
    "    print(lyrics)"
   ]
  },
  {
   "cell_type": "markdown",
   "metadata": {},
   "source": [
    "## Group Discussion"
   ]
  },
  {
   "cell_type": "markdown",
   "metadata": {},
   "source": [
    "* Do you think scholars should use web scraping in their research? Why or why not?\n",
    "* How would you feel if you found out that one of your social media posts had been included in an academic article without your knowledge?\n",
    "* What are some strategies that you think scholars might use to do web scraping in an ethical way?"
   ]
  },
  {
   "cell_type": "markdown",
   "metadata": {},
   "source": [
    "If there is anything wrong, please open [an issue on GitHub](https://github.com/GroningenDH/Cultural-Analytics-Open-Science-Guide/issues) or email f.pianzola@rug.nl"
   ]
  }
 ],
 "metadata": {
  "kernelspec": {
   "display_name": "Python 3",
   "language": "python",
   "name": "python3"
  },
  "language_info": {
   "codemirror_mode": {
    "name": "ipython",
    "version": 3
   },
   "file_extension": ".py",
   "mimetype": "text/x-python",
   "name": "python",
   "nbconvert_exporter": "python",
   "pygments_lexer": "ipython3",
   "version": "3.10.10"
  },
  "toc": {
   "base_numbering": 1,
   "nav_menu": {},
   "number_sections": true,
   "sideBar": true,
   "skip_h1_title": false,
   "title_cell": "Table of Contents",
   "title_sidebar": "Contents",
   "toc_cell": false,
   "toc_position": {},
   "toc_section_display": true,
   "toc_window_display": false
  },
  "varInspector": {
   "cols": {
    "lenName": 16,
    "lenType": 16,
    "lenVar": 40
   },
   "kernels_config": {
    "python": {
     "delete_cmd_postfix": "",
     "delete_cmd_prefix": "del ",
     "library": "var_list.py",
     "varRefreshCmd": "print(var_dic_list())"
    },
    "r": {
     "delete_cmd_postfix": ") ",
     "delete_cmd_prefix": "rm(",
     "library": "var_list.r",
     "varRefreshCmd": "cat(var_dic_list()) "
    }
   },
   "types_to_exclude": [
    "module",
    "function",
    "builtin_function_or_method",
    "instance",
    "_Feature"
   ],
   "window_display": false
  }
 },
 "nbformat": 4,
 "nbformat_minor": 4
}
